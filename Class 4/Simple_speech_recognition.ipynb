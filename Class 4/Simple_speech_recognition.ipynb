{
  "cells": [
    {
      "cell_type": "markdown",
      "metadata": {
        "id": "view-in-github",
        "colab_type": "text"
      },
      "source": [
        "<a href=\"https://colab.research.google.com/github/jjjuliayyyu/GS2DIT/blob/main/Class%204/Simple_speech_recognition.ipynb\" target=\"_parent\"><img src=\"https://colab.research.google.com/assets/colab-badge.svg\" alt=\"Open In Colab\"/></a>"
      ]
    },
    {
      "cell_type": "markdown",
      "source": [
        "Code source: https://colab.research.google.com/github/tensorflow/docs/blob/master/site/en/tutorials/audio/simple_audio.ipynb#scrollTo=wTAg4vsn3oEb"
      ],
      "metadata": {
        "id": "B81jKekEobND"
      }
    },
    {
      "cell_type": "markdown",
      "metadata": {
        "id": "fluF3_oOgkWF"
      },
      "source": [
        "##### Copyright 2020 The TensorFlow Authors."
      ]
    },
    {
      "cell_type": "code",
      "execution_count": null,
      "metadata": {
        "id": "AJs7HHFmg1M9"
      },
      "outputs": [],
      "source": [
        "#@title Licensed under the Apache License, Version 2.0 (the \"License\");\n",
        "# you may not use this file except in compliance with the License.\n",
        "# You may obtain a copy of the License at\n",
        "#\n",
        "# https://www.apache.org/licenses/LICENSE-2.0\n",
        "#\n",
        "# Unless required by applicable law or agreed to in writing, software\n",
        "# distributed under the License is distributed on an \"AS IS\" BASIS,\n",
        "# WITHOUT WARRANTIES OR CONDITIONS OF ANY KIND, either express or implied.\n",
        "# See the License for the specific language governing permissions and\n",
        "# limitations under the License."
      ]
    },
    {
      "cell_type": "markdown",
      "metadata": {
        "id": "jYysdyb-CaWM"
      },
      "source": [
        "# Simple audio recognition: Recognizing keywords"
      ]
    },
    {
      "cell_type": "markdown",
      "metadata": {
        "id": "CNbqmZy0gbyE"
      },
      "source": [
        "<table class=\"tfo-notebook-buttons\" align=\"left\">\n",
        "  <td>\n",
        "    <a target=\"_blank\" href=\"https://colab.research.google.com/drive/1Ga0X5AwxcpYIH55vgMxBawa9_tjW7KIL#scrollTo=CNbqmZy0gbyE\">\n",
        "    <img src=\"https://www.tensorflow.org/images/colab_logo_32px.png\" />\n",
        "    Run in Google Colab</a>\n",
        "  </td>\n",
        "</table>"
      ]
    },
    {
      "cell_type": "markdown",
      "metadata": {
        "id": "SPfDNFlb66XF"
      },
      "source": [
        "This tutorial demonstrates how to preprocess audio files in the WAV format and build and train a basic [automatic speech recognition](https://en.wikipedia.org/wiki/Speech_recognition) (ASR) model for recognizing ten different words. You will use a portion of the [Speech Commands dataset](https://www.tensorflow.org/datasets/catalog/speech_commands) ([Warden, 2018](https://arxiv.org/abs/1804.03209)), which contains short (one-second or less) audio clips of commands, such as \"down\", \"go\", \"left\", \"no\", \"right\", \"stop\", \"up\" and \"yes\"."
      ]
    },
    {
      "cell_type": "markdown",
      "metadata": {
        "id": "Go9C3uLL8Izc"
      },
      "source": [
        "## Setup\n",
        "\n",
        "Download and install necessary dependencies"
      ]
    },
    {
      "cell_type": "code",
      "source": [
        "!pip install tensorflow==2.10 tensorflow_datasets\n",
        "!apt install --allow-change-held-packages libcudnn8=8.1.0.77-1+cuda11.2"
      ],
      "metadata": {
        "id": "2tuvqtpIzKXK",
        "outputId": "4e8ad732-cdc2-499a-a434-84ce7f841eda",
        "colab": {
          "base_uri": "https://localhost:8080/",
          "height": 1000
        }
      },
      "execution_count": 1,
      "outputs": [
        {
          "output_type": "stream",
          "name": "stdout",
          "text": [
            "Looking in indexes: https://pypi.org/simple, https://us-python.pkg.dev/colab-wheels/public/simple/\n",
            "Collecting tensorflow==2.10\n",
            "  Downloading tensorflow-2.10.0-cp39-cp39-manylinux_2_17_x86_64.manylinux2014_x86_64.whl (578.1 MB)\n",
            "\u001b[2K     \u001b[90m━━━━━━━━━━━━━━━━━━━━━━━━━━━━━━━━━━━━━━━\u001b[0m \u001b[32m578.1/578.1 MB\u001b[0m \u001b[31m2.2 MB/s\u001b[0m eta \u001b[36m0:00:00\u001b[0m\n",
            "\u001b[?25hRequirement already satisfied: tensorflow_datasets in /usr/local/lib/python3.9/dist-packages (4.8.3)\n",
            "Collecting tensorboard<2.11,>=2.10\n",
            "  Downloading tensorboard-2.10.1-py3-none-any.whl (5.9 MB)\n",
            "\u001b[2K     \u001b[90m━━━━━━━━━━━━━━━━━━━━━━━━━━━━━━━━━━━━━━━━\u001b[0m \u001b[32m5.9/5.9 MB\u001b[0m \u001b[31m35.5 MB/s\u001b[0m eta \u001b[36m0:00:00\u001b[0m\n",
            "\u001b[?25hRequirement already satisfied: astunparse>=1.6.0 in /usr/local/lib/python3.9/dist-packages (from tensorflow==2.10) (1.6.3)\n",
            "Requirement already satisfied: typing-extensions>=3.6.6 in /usr/local/lib/python3.9/dist-packages (from tensorflow==2.10) (4.5.0)\n",
            "Collecting tensorflow-estimator<2.11,>=2.10.0\n",
            "  Downloading tensorflow_estimator-2.10.0-py2.py3-none-any.whl (438 kB)\n",
            "\u001b[2K     \u001b[90m━━━━━━━━━━━━━━━━━━━━━━━━━━━━━━━━━━━━━━\u001b[0m \u001b[32m438.7/438.7 KB\u001b[0m \u001b[31m32.2 MB/s\u001b[0m eta \u001b[36m0:00:00\u001b[0m\n",
            "\u001b[?25hRequirement already satisfied: numpy>=1.20 in /usr/local/lib/python3.9/dist-packages (from tensorflow==2.10) (1.22.4)\n",
            "Requirement already satisfied: grpcio<2.0,>=1.24.3 in /usr/local/lib/python3.9/dist-packages (from tensorflow==2.10) (1.53.0)\n",
            "Requirement already satisfied: gast<=0.4.0,>=0.2.1 in /usr/local/lib/python3.9/dist-packages (from tensorflow==2.10) (0.4.0)\n",
            "Requirement already satisfied: termcolor>=1.1.0 in /usr/local/lib/python3.9/dist-packages (from tensorflow==2.10) (2.2.0)\n",
            "Requirement already satisfied: h5py>=2.9.0 in /usr/local/lib/python3.9/dist-packages (from tensorflow==2.10) (3.8.0)\n",
            "Requirement already satisfied: flatbuffers>=2.0 in /usr/local/lib/python3.9/dist-packages (from tensorflow==2.10) (23.3.3)\n",
            "Collecting keras-preprocessing>=1.1.1\n",
            "  Downloading Keras_Preprocessing-1.1.2-py2.py3-none-any.whl (42 kB)\n",
            "\u001b[2K     \u001b[90m━━━━━━━━━━━━━━━━━━━━━━━━━━━━━━━━━━━━━━━━\u001b[0m \u001b[32m42.6/42.6 KB\u001b[0m \u001b[31m2.7 MB/s\u001b[0m eta \u001b[36m0:00:00\u001b[0m\n",
            "\u001b[?25hRequirement already satisfied: tensorflow-io-gcs-filesystem>=0.23.1 in /usr/local/lib/python3.9/dist-packages (from tensorflow==2.10) (0.32.0)\n",
            "Requirement already satisfied: google-pasta>=0.1.1 in /usr/local/lib/python3.9/dist-packages (from tensorflow==2.10) (0.2.0)\n",
            "Requirement already satisfied: opt-einsum>=2.3.2 in /usr/local/lib/python3.9/dist-packages (from tensorflow==2.10) (3.3.0)\n",
            "Requirement already satisfied: six>=1.12.0 in /usr/local/lib/python3.9/dist-packages (from tensorflow==2.10) (1.16.0)\n",
            "Collecting keras<2.11,>=2.10.0\n",
            "  Downloading keras-2.10.0-py2.py3-none-any.whl (1.7 MB)\n",
            "\u001b[2K     \u001b[90m━━━━━━━━━━━━━━━━━━━━━━━━━━━━━━━━━━━━━━━━\u001b[0m \u001b[32m1.7/1.7 MB\u001b[0m \u001b[31m53.7 MB/s\u001b[0m eta \u001b[36m0:00:00\u001b[0m\n",
            "\u001b[?25hRequirement already satisfied: wrapt>=1.11.0 in /usr/local/lib/python3.9/dist-packages (from tensorflow==2.10) (1.14.1)\n",
            "Requirement already satisfied: libclang>=13.0.0 in /usr/local/lib/python3.9/dist-packages (from tensorflow==2.10) (16.0.0)\n",
            "Collecting protobuf<3.20,>=3.9.2\n",
            "  Downloading protobuf-3.19.6-cp39-cp39-manylinux_2_17_x86_64.manylinux2014_x86_64.whl (1.1 MB)\n",
            "\u001b[2K     \u001b[90m━━━━━━━━━━━━━━━━━━━━━━━━━━━━━━━━━━━━━━━━\u001b[0m \u001b[32m1.1/1.1 MB\u001b[0m \u001b[31m53.7 MB/s\u001b[0m eta \u001b[36m0:00:00\u001b[0m\n",
            "\u001b[?25hRequirement already satisfied: setuptools in /usr/local/lib/python3.9/dist-packages (from tensorflow==2.10) (67.6.1)\n",
            "Requirement already satisfied: absl-py>=1.0.0 in /usr/local/lib/python3.9/dist-packages (from tensorflow==2.10) (1.4.0)\n",
            "Requirement already satisfied: packaging in /usr/local/lib/python3.9/dist-packages (from tensorflow==2.10) (23.0)\n",
            "Requirement already satisfied: tqdm in /usr/local/lib/python3.9/dist-packages (from tensorflow_datasets) (4.65.0)\n",
            "Requirement already satisfied: etils[enp,epath]>=0.9.0 in /usr/local/lib/python3.9/dist-packages (from tensorflow_datasets) (1.1.1)\n",
            "Requirement already satisfied: toml in /usr/local/lib/python3.9/dist-packages (from tensorflow_datasets) (0.10.2)\n",
            "Requirement already satisfied: dm-tree in /usr/local/lib/python3.9/dist-packages (from tensorflow_datasets) (0.1.8)\n",
            "Requirement already satisfied: psutil in /usr/local/lib/python3.9/dist-packages (from tensorflow_datasets) (5.9.4)\n",
            "Requirement already satisfied: promise in /usr/local/lib/python3.9/dist-packages (from tensorflow_datasets) (2.3)\n",
            "Requirement already satisfied: requests>=2.19.0 in /usr/local/lib/python3.9/dist-packages (from tensorflow_datasets) (2.27.1)\n",
            "Requirement already satisfied: tensorflow-metadata in /usr/local/lib/python3.9/dist-packages (from tensorflow_datasets) (1.12.0)\n",
            "Requirement already satisfied: click in /usr/local/lib/python3.9/dist-packages (from tensorflow_datasets) (8.1.3)\n",
            "Requirement already satisfied: wheel<1.0,>=0.23.0 in /usr/local/lib/python3.9/dist-packages (from astunparse>=1.6.0->tensorflow==2.10) (0.40.0)\n",
            "Requirement already satisfied: importlib_resources in /usr/local/lib/python3.9/dist-packages (from etils[enp,epath]>=0.9.0->tensorflow_datasets) (5.12.0)\n",
            "Requirement already satisfied: zipp in /usr/local/lib/python3.9/dist-packages (from etils[enp,epath]>=0.9.0->tensorflow_datasets) (3.15.0)\n",
            "Requirement already satisfied: certifi>=2017.4.17 in /usr/local/lib/python3.9/dist-packages (from requests>=2.19.0->tensorflow_datasets) (2022.12.7)\n",
            "Requirement already satisfied: idna<4,>=2.5 in /usr/local/lib/python3.9/dist-packages (from requests>=2.19.0->tensorflow_datasets) (3.4)\n",
            "Requirement already satisfied: charset-normalizer~=2.0.0 in /usr/local/lib/python3.9/dist-packages (from requests>=2.19.0->tensorflow_datasets) (2.0.12)\n",
            "Requirement already satisfied: urllib3<1.27,>=1.21.1 in /usr/local/lib/python3.9/dist-packages (from requests>=2.19.0->tensorflow_datasets) (1.26.15)\n",
            "Collecting tensorboard-data-server<0.7.0,>=0.6.0\n",
            "  Downloading tensorboard_data_server-0.6.1-py3-none-manylinux2010_x86_64.whl (4.9 MB)\n",
            "\u001b[2K     \u001b[90m━━━━━━━━━━━━━━━━━━━━━━━━━━━━━━━━━━━━━━━━\u001b[0m \u001b[32m4.9/4.9 MB\u001b[0m \u001b[31m52.0 MB/s\u001b[0m eta \u001b[36m0:00:00\u001b[0m\n",
            "\u001b[?25hRequirement already satisfied: google-auth-oauthlib<0.5,>=0.4.1 in /usr/local/lib/python3.9/dist-packages (from tensorboard<2.11,>=2.10->tensorflow==2.10) (0.4.6)\n",
            "Requirement already satisfied: werkzeug>=1.0.1 in /usr/local/lib/python3.9/dist-packages (from tensorboard<2.11,>=2.10->tensorflow==2.10) (2.2.3)\n",
            "Requirement already satisfied: google-auth<3,>=1.6.3 in /usr/local/lib/python3.9/dist-packages (from tensorboard<2.11,>=2.10->tensorflow==2.10) (2.17.1)\n",
            "Requirement already satisfied: tensorboard-plugin-wit>=1.6.0 in /usr/local/lib/python3.9/dist-packages (from tensorboard<2.11,>=2.10->tensorflow==2.10) (1.8.1)\n",
            "Requirement already satisfied: markdown>=2.6.8 in /usr/local/lib/python3.9/dist-packages (from tensorboard<2.11,>=2.10->tensorflow==2.10) (3.4.3)\n",
            "Requirement already satisfied: googleapis-common-protos<2,>=1.52.0 in /usr/local/lib/python3.9/dist-packages (from tensorflow-metadata->tensorflow_datasets) (1.59.0)\n",
            "Requirement already satisfied: pyasn1-modules>=0.2.1 in /usr/local/lib/python3.9/dist-packages (from google-auth<3,>=1.6.3->tensorboard<2.11,>=2.10->tensorflow==2.10) (0.2.8)\n",
            "Requirement already satisfied: rsa<5,>=3.1.4 in /usr/local/lib/python3.9/dist-packages (from google-auth<3,>=1.6.3->tensorboard<2.11,>=2.10->tensorflow==2.10) (4.9)\n",
            "Requirement already satisfied: cachetools<6.0,>=2.0.0 in /usr/local/lib/python3.9/dist-packages (from google-auth<3,>=1.6.3->tensorboard<2.11,>=2.10->tensorflow==2.10) (5.3.0)\n",
            "Requirement already satisfied: requests-oauthlib>=0.7.0 in /usr/local/lib/python3.9/dist-packages (from google-auth-oauthlib<0.5,>=0.4.1->tensorboard<2.11,>=2.10->tensorflow==2.10) (1.3.1)\n",
            "Requirement already satisfied: importlib-metadata>=4.4 in /usr/local/lib/python3.9/dist-packages (from markdown>=2.6.8->tensorboard<2.11,>=2.10->tensorflow==2.10) (6.1.0)\n",
            "Requirement already satisfied: MarkupSafe>=2.1.1 in /usr/local/lib/python3.9/dist-packages (from werkzeug>=1.0.1->tensorboard<2.11,>=2.10->tensorflow==2.10) (2.1.2)\n",
            "Requirement already satisfied: pyasn1<0.5.0,>=0.4.6 in /usr/local/lib/python3.9/dist-packages (from pyasn1-modules>=0.2.1->google-auth<3,>=1.6.3->tensorboard<2.11,>=2.10->tensorflow==2.10) (0.4.8)\n",
            "Requirement already satisfied: oauthlib>=3.0.0 in /usr/local/lib/python3.9/dist-packages (from requests-oauthlib>=0.7.0->google-auth-oauthlib<0.5,>=0.4.1->tensorboard<2.11,>=2.10->tensorflow==2.10) (3.2.2)\n",
            "Installing collected packages: keras, tensorflow-estimator, tensorboard-data-server, protobuf, keras-preprocessing, tensorboard, tensorflow\n",
            "  Attempting uninstall: keras\n",
            "    Found existing installation: keras 2.12.0\n",
            "    Uninstalling keras-2.12.0:\n",
            "      Successfully uninstalled keras-2.12.0\n",
            "  Attempting uninstall: tensorflow-estimator\n",
            "    Found existing installation: tensorflow-estimator 2.12.0\n",
            "    Uninstalling tensorflow-estimator-2.12.0:\n",
            "      Successfully uninstalled tensorflow-estimator-2.12.0\n",
            "  Attempting uninstall: tensorboard-data-server\n",
            "    Found existing installation: tensorboard-data-server 0.7.0\n",
            "    Uninstalling tensorboard-data-server-0.7.0:\n",
            "      Successfully uninstalled tensorboard-data-server-0.7.0\n",
            "  Attempting uninstall: protobuf\n",
            "    Found existing installation: protobuf 3.20.3\n",
            "    Uninstalling protobuf-3.20.3:\n",
            "      Successfully uninstalled protobuf-3.20.3\n",
            "  Attempting uninstall: tensorboard\n",
            "    Found existing installation: tensorboard 2.12.0\n",
            "    Uninstalling tensorboard-2.12.0:\n",
            "      Successfully uninstalled tensorboard-2.12.0\n",
            "  Attempting uninstall: tensorflow\n",
            "    Found existing installation: tensorflow 2.12.0\n",
            "    Uninstalling tensorflow-2.12.0:\n",
            "      Successfully uninstalled tensorflow-2.12.0\n",
            "Successfully installed keras-2.10.0 keras-preprocessing-1.1.2 protobuf-3.19.6 tensorboard-2.10.1 tensorboard-data-server-0.6.1 tensorflow-2.10.0 tensorflow-estimator-2.10.0\n"
          ]
        },
        {
          "output_type": "display_data",
          "data": {
            "application/vnd.colab-display-data+json": {
              "pip_warning": {
                "packages": [
                  "google"
                ]
              }
            }
          },
          "metadata": {}
        },
        {
          "output_type": "stream",
          "name": "stdout",
          "text": [
            "Reading package lists... Done\n",
            "Building dependency tree       \n",
            "Reading state information... Done\n",
            "The following package was automatically installed and is no longer required:\n",
            "  libnvidia-common-525\n",
            "Use 'apt autoremove' to remove it.\n",
            "The following packages will be REMOVED:\n",
            "  libcudnn8-dev\n",
            "The following held packages will be changed:\n",
            "  libcudnn8\n",
            "The following packages will be DOWNGRADED:\n",
            "  libcudnn8\n",
            "0 upgraded, 0 newly installed, 1 downgraded, 1 to remove and 21 not upgraded.\n",
            "Need to get 430 MB of archives.\n",
            "After this operation, 1,153 MB disk space will be freed.\n",
            "Get:1 https://developer.download.nvidia.com/compute/cuda/repos/ubuntu2004/x86_64  libcudnn8 8.1.0.77-1+cuda11.2 [430 MB]\n",
            "Fetched 430 MB in 12s (34.9 MB/s)\n",
            "(Reading database ... 128293 files and directories currently installed.)\n",
            "Removing libcudnn8-dev (8.7.0.84-1+cuda11.8) ...\n",
            "update-alternatives: removing manually selected alternative - switching libcudnn to auto mode\n",
            "\u001b[1mdpkg:\u001b[0m \u001b[1;33mwarning:\u001b[0m downgrading libcudnn8 from 8.7.0.84-1+cuda11.8 to 8.1.0.77-1+cuda11.2\n",
            "(Reading database ... 128260 files and directories currently installed.)\n",
            "Preparing to unpack .../libcudnn8_8.1.0.77-1+cuda11.2_amd64.deb ...\n",
            "Unpacking libcudnn8 (8.1.0.77-1+cuda11.2) over (8.7.0.84-1+cuda11.8) ...\n",
            "Setting up libcudnn8 (8.1.0.77-1+cuda11.2) ...\n"
          ]
        }
      ]
    },
    {
      "cell_type": "code",
      "execution_count": 1,
      "metadata": {
        "id": "dzLKpmZICaWN"
      },
      "outputs": [],
      "source": [
        "import os\n",
        "import pathlib\n",
        "\n",
        "import matplotlib.pyplot as plt\n",
        "import numpy as np\n",
        "import seaborn as sns\n",
        "import tensorflow as tf\n",
        "\n",
        "from tensorflow.keras import layers\n",
        "from tensorflow.keras import models\n",
        "from IPython import display\n",
        "\n",
        "# Set the seed value for experiment reproducibility.\n",
        "seed = 42\n",
        "tf.random.set_seed(seed)\n",
        "np.random.seed(seed)"
      ]
    },
    {
      "cell_type": "markdown",
      "metadata": {
        "id": "yR0EdgrLCaWR"
      },
      "source": [
        "## Import the mini Speech Commands dataset\n",
        "\n",
        "To save time with data loading, you will be working with a smaller version of the Speech Commands dataset.\n",
        "Download and extract the `mini_speech_commands.zip` file containing the smaller Speech Commands datasets with `tf.keras.utils.get_file`:"
      ]
    },
    {
      "cell_type": "code",
      "execution_count": 2,
      "metadata": {
        "id": "2-rayb7-3Y0I",
        "outputId": "f9028c05-eb76-4447-b499-fd0d65db118b",
        "colab": {
          "base_uri": "https://localhost:8080/"
        }
      },
      "outputs": [
        {
          "output_type": "stream",
          "name": "stdout",
          "text": [
            "Downloading data from http://storage.googleapis.com/download.tensorflow.org/data/mini_speech_commands.zip\n",
            "182082353/182082353 [==============================] - 5s 0us/step\n"
          ]
        }
      ],
      "source": [
        "DATASET_PATH = 'data/mini_speech_commands'\n",
        "\n",
        "data_dir = pathlib.Path(DATASET_PATH)\n",
        "if not data_dir.exists():\n",
        "  tf.keras.utils.get_file(\n",
        "      'mini_speech_commands.zip',\n",
        "      origin=\"http://storage.googleapis.com/download.tensorflow.org/data/mini_speech_commands.zip\",\n",
        "      extract=True,\n",
        "      cache_dir='.', cache_subdir='data')"
      ]
    },
    {
      "cell_type": "markdown",
      "metadata": {
        "id": "BgvFq3uYiS5G"
      },
      "source": [
        "The dataset's audio clips are stored in eight folders corresponding to each speech command: `no`, `yes`, `down`, `go`, `left`, `up`, `right`, and `stop`:"
      ]
    },
    {
      "cell_type": "code",
      "execution_count": 3,
      "metadata": {
        "id": "70IBxSKxA1N9",
        "outputId": "4ff3abd4-cfc9-4e8d-8a4f-3d8e39e39d60",
        "colab": {
          "base_uri": "https://localhost:8080/"
        }
      },
      "outputs": [
        {
          "output_type": "stream",
          "name": "stdout",
          "text": [
            "Commands: ['stop' 'up' 'right' 'left' 'no' 'down' 'go' 'yes']\n"
          ]
        }
      ],
      "source": [
        "commands = np.array(tf.io.gfile.listdir(str(data_dir)))\n",
        "commands = commands[(commands != 'README.md') & (commands != '.DS_Store')]\n",
        "print('Commands:', commands)"
      ]
    },
    {
      "cell_type": "markdown",
      "metadata": {
        "id": "TZ7GJjDvHqtt"
      },
      "source": [
        "Now we split the data into train and test datasets.\n",
        "\n",
        "The audio clips are 1 second or less at 16kHz."
      ]
    },
    {
      "cell_type": "code",
      "execution_count": 4,
      "metadata": {
        "id": "mFM4c3aMC8Qv",
        "outputId": "1001d763-765a-4d7f-d464-7ff673b100e2",
        "colab": {
          "base_uri": "https://localhost:8080/"
        }
      },
      "outputs": [
        {
          "output_type": "stream",
          "name": "stdout",
          "text": [
            "Found 8000 files belonging to 8 classes.\n",
            "Using 6400 files for training.\n",
            "Using 1600 files for validation.\n",
            "\n",
            "label names: ['down' 'go' 'left' 'no' 'right' 'stop' 'up' 'yes']\n"
          ]
        }
      ],
      "source": [
        "train_ds, val_ds = tf.keras.utils.audio_dataset_from_directory(\n",
        "    directory=data_dir,\n",
        "    batch_size=64,\n",
        "    validation_split=0.2,\n",
        "    seed=0,\n",
        "    output_sequence_length=16000,\n",
        "    subset='both')\n",
        "\n",
        "label_names = np.array(train_ds.class_names)\n",
        "print()\n",
        "print(\"label names:\", label_names)"
      ]
    },
    {
      "cell_type": "code",
      "execution_count": 5,
      "metadata": {
        "id": "Xl-tnniUIBlM"
      },
      "outputs": [],
      "source": [
        "def squeeze(audio, labels):\n",
        "  audio = tf.squeeze(audio, axis=-1)\n",
        "  return audio, labels\n",
        "\n",
        "train_ds = train_ds.map(squeeze, tf.data.AUTOTUNE)\n",
        "val_ds = val_ds.map(squeeze, tf.data.AUTOTUNE)"
      ]
    },
    {
      "cell_type": "markdown",
      "metadata": {
        "id": "DtsCSWZN5ILv"
      },
      "source": [
        "We have to split our calidation dataset into val and test set."
      ]
    },
    {
      "cell_type": "code",
      "execution_count": 6,
      "metadata": {
        "id": "u5UEGsqM5Gss"
      },
      "outputs": [],
      "source": [
        "test_ds = val_ds.shard(num_shards=2, index=0)\n",
        "val_ds = val_ds.shard(num_shards=2, index=1)"
      ]
    },
    {
      "cell_type": "code",
      "execution_count": 7,
      "metadata": {
        "id": "xIeoJcwJH5h9",
        "outputId": "9b7065af-166a-4f72-ebec-c1e3aaa17e72",
        "colab": {
          "base_uri": "https://localhost:8080/"
        }
      },
      "outputs": [
        {
          "output_type": "stream",
          "name": "stdout",
          "text": [
            "(64, 16000)\n",
            "(64,)\n"
          ]
        }
      ],
      "source": [
        "for example_audio, example_labels in train_ds.take(1):  \n",
        "  print(example_audio.shape)\n",
        "  print(example_labels.shape)"
      ]
    },
    {
      "cell_type": "markdown",
      "metadata": {
        "id": "voxGEwvuh2L7"
      },
      "source": [
        "Let's plot a few audio waveforms:"
      ]
    },
    {
      "cell_type": "markdown",
      "metadata": {
        "id": "EWXPphxm0B4m"
      },
      "source": [
        "## Convert waveforms to spectrograms\n",
        "\n",
        "The waveforms in the dataset are represented in the time domain. Next, you'll transform the waveforms from the time-domain signals into the time-frequency-domain signals by computing the [short-time Fourier transform (STFT)](https://en.wikipedia.org/wiki/Short-time_Fourier_transform) to convert the waveforms to as [spectrograms](https://en.wikipedia.org/wiki/Spectrogram), which show frequency changes over time and can be represented as 2D images."
      ]
    },
    {
      "cell_type": "code",
      "execution_count": 8,
      "metadata": {
        "id": "_4CK75DHz_OR"
      },
      "outputs": [],
      "source": [
        "def get_spectrogram(waveform):\n",
        "  # Convert the waveform to a spectrogram via a STFT.\n",
        "  spectrogram = tf.signal.stft(\n",
        "      waveform, frame_length=255, frame_step=128)\n",
        "  # Obtain the magnitude of the STFT.\n",
        "  spectrogram = tf.abs(spectrogram)\n",
        "  # Add a `channels` dimension, so that the spectrogram can be used\n",
        "  # as image-like input data with convolution layers (which expect\n",
        "  # shape (`batch_size`, `height`, `width`, `channels`).\n",
        "  spectrogram = spectrogram[..., tf.newaxis]\n",
        "  return spectrogram"
      ]
    },
    {
      "cell_type": "markdown",
      "metadata": {
        "id": "xnSuqyxJ1isF"
      },
      "source": [
        "Now, define a function for displaying a spectrogram:"
      ]
    },
    {
      "cell_type": "code",
      "execution_count": null,
      "metadata": {
        "id": "e62jzb36-Jog"
      },
      "outputs": [],
      "source": [
        "#def plot_spectrogram(spectrogram, ax):\n",
        "#  if len(spectrogram.shape) > 2:\n",
        "#    assert len(spectrogram.shape) == 3\n",
        "#    spectrogram = np.squeeze(spectrogram, axis=-1)\n",
        "#  # Convert the frequencies to log scale and transpose, so that the time is\n",
        "#  # represented on the x-axis (columns).\n",
        "#  # Add an epsilon to avoid taking a log of zero.\n",
        "#  log_spec = np.log(spectrogram.T + np.finfo(float).eps)\n",
        "#  height = log_spec.shape[0]\n",
        "#  width = log_spec.shape[1]\n",
        "#  X = np.linspace(0, np.size(spectrogram), num=width, dtype=int)\n",
        "#  Y = range(height)\n",
        "#  ax.pcolormesh(X, Y, log_spec)"
      ]
    },
    {
      "cell_type": "markdown",
      "metadata": {
        "id": "GyYXjW07jCHA"
      },
      "source": [
        "Now, create spectrogramn datasets from the audio datasets:"
      ]
    },
    {
      "cell_type": "code",
      "execution_count": 9,
      "metadata": {
        "id": "mAD0LpkgqtQo"
      },
      "outputs": [],
      "source": [
        "def make_spec_ds(ds):\n",
        "  return ds.map(\n",
        "      map_func=lambda audio,label: (get_spectrogram(audio), label),\n",
        "      num_parallel_calls=tf.data.AUTOTUNE)"
      ]
    },
    {
      "cell_type": "code",
      "execution_count": 10,
      "metadata": {
        "id": "yEVb_oK0oBLQ"
      },
      "outputs": [],
      "source": [
        "train_spectrogram_ds = make_spec_ds(train_ds)\n",
        "val_spectrogram_ds = make_spec_ds(val_ds)\n",
        "test_spectrogram_ds = make_spec_ds(test_ds)"
      ]
    },
    {
      "cell_type": "code",
      "source": [
        "for example_spectrograms, example_spect_labels in train_spectrogram_ds.take(1):\n",
        "  break"
      ],
      "metadata": {
        "id": "Pp8S55hQuGgH"
      },
      "execution_count": 11,
      "outputs": []
    },
    {
      "cell_type": "markdown",
      "metadata": {
        "id": "z5KdY8IF8rkt"
      },
      "source": [
        "## Build and train the model"
      ]
    },
    {
      "cell_type": "code",
      "execution_count": 12,
      "metadata": {
        "id": "fdZ6M-F5_QzY"
      },
      "outputs": [],
      "source": [
        "train_spectrogram_ds = train_spectrogram_ds.cache().shuffle(10000).prefetch(tf.data.AUTOTUNE)\n",
        "val_spectrogram_ds = val_spectrogram_ds.cache().prefetch(tf.data.AUTOTUNE)\n",
        "test_spectrogram_ds = test_spectrogram_ds.cache().prefetch(tf.data.AUTOTUNE)"
      ]
    },
    {
      "cell_type": "markdown",
      "metadata": {
        "id": "rwHkKCQQb5oW"
      },
      "source": [
        "For the model, you'll use a simple convolutional neural network (CNN), since you have transformed the audio files into spectrogram images.\n",
        "\n",
        "Your `tf.keras.Sequential` model will use the following Keras preprocessing layers:\n",
        "\n",
        "- `tf.keras.layers.Resizing`: to downsample the input to enable the model to train faster.\n",
        "- `tf.keras.layers.Normalization`: to normalize each pixel in the image based on its mean and standard deviation."
      ]
    },
    {
      "cell_type": "code",
      "execution_count": 13,
      "metadata": {
        "id": "ALYz7PFCHblP",
        "outputId": "317091eb-50ea-4d2e-c39b-7819b7818218",
        "colab": {
          "base_uri": "https://localhost:8080/"
        }
      },
      "outputs": [
        {
          "output_type": "stream",
          "name": "stdout",
          "text": [
            "Input shape: (124, 129, 1)\n",
            "Model: \"sequential\"\n",
            "_________________________________________________________________\n",
            " Layer (type)                Output Shape              Param #   \n",
            "=================================================================\n",
            " resizing (Resizing)         (None, 32, 32, 1)         0         \n",
            "                                                                 \n",
            " normalization (Normalizatio  (None, 32, 32, 1)        3         \n",
            " n)                                                              \n",
            "                                                                 \n",
            " conv2d (Conv2D)             (None, 30, 30, 32)        320       \n",
            "                                                                 \n",
            " conv2d_1 (Conv2D)           (None, 28, 28, 64)        18496     \n",
            "                                                                 \n",
            " max_pooling2d (MaxPooling2D  (None, 14, 14, 64)       0         \n",
            " )                                                               \n",
            "                                                                 \n",
            " dropout (Dropout)           (None, 14, 14, 64)        0         \n",
            "                                                                 \n",
            " flatten (Flatten)           (None, 12544)             0         \n",
            "                                                                 \n",
            " dense (Dense)               (None, 128)               1605760   \n",
            "                                                                 \n",
            " dropout_1 (Dropout)         (None, 128)               0         \n",
            "                                                                 \n",
            " dense_1 (Dense)             (None, 8)                 1032      \n",
            "                                                                 \n",
            "=================================================================\n",
            "Total params: 1,625,611\n",
            "Trainable params: 1,625,608\n",
            "Non-trainable params: 3\n",
            "_________________________________________________________________\n"
          ]
        }
      ],
      "source": [
        "input_shape = example_spectrograms.shape[1:]\n",
        "print('Input shape:', input_shape)\n",
        "num_labels = len(label_names)\n",
        "\n",
        "# Instantiate the `tf.keras.layers.Normalization` layer.\n",
        "norm_layer = layers.Normalization()\n",
        "# Fit the state of the layer to the spectrograms\n",
        "# with `Normalization.adapt`.\n",
        "norm_layer.adapt(data=train_spectrogram_ds.map(map_func=lambda spec, label: spec))\n",
        "\n",
        "model = models.Sequential([\n",
        "    tf.keras.layers.Input(shape=input_shape),\n",
        "    # Downsample the input.\n",
        "    tf.keras.layers.Resizing(32, 32),\n",
        "    # Normalize.\n",
        "    norm_layer,\n",
        "    tf.keras.layers.Conv2D(32, 3, activation='relu'),\n",
        "    tf.keras.layers.Conv2D(64, 3, activation='relu'),\n",
        "    tf.keras.layers.MaxPooling2D(),\n",
        "    tf.keras.layers.Dropout(0.25),\n",
        "    tf.keras.layers.Flatten(),\n",
        "    tf.keras.layers.Dense(128, activation='relu'),\n",
        "    tf.keras.layers.Dropout(0.5),\n",
        "    tf.keras.layers.Dense(num_labels),\n",
        "])\n",
        "\n",
        "model.summary()"
      ]
    },
    {
      "cell_type": "markdown",
      "metadata": {
        "id": "de52e5afa2f3"
      },
      "source": [
        "Configure the Keras model with the Adam optimizer and the cross-entropy loss:"
      ]
    },
    {
      "cell_type": "code",
      "execution_count": 14,
      "metadata": {
        "id": "wFjj7-EmsTD-"
      },
      "outputs": [],
      "source": [
        "model.compile(\n",
        "    optimizer=tf.keras.optimizers.Adam(),\n",
        "    loss=tf.keras.losses.SparseCategoricalCrossentropy(from_logits=True),\n",
        "    metrics=['accuracy'],\n",
        ")"
      ]
    },
    {
      "cell_type": "markdown",
      "metadata": {
        "id": "f42b9e3a4705"
      },
      "source": [
        "Train the model over 10 epochs for demonstration purposes:"
      ]
    },
    {
      "cell_type": "code",
      "execution_count": 15,
      "metadata": {
        "id": "ttioPJVMcGtq",
        "outputId": "eca4abfd-2ebf-4bc5-ddea-a2b7dd72e725",
        "colab": {
          "base_uri": "https://localhost:8080/"
        }
      },
      "outputs": [
        {
          "output_type": "stream",
          "name": "stdout",
          "text": [
            "Epoch 1/10\n",
            "100/100 [==============================] - 8s 25ms/step - loss: 1.7142 - accuracy: 0.3817 - val_loss: 1.2506 - val_accuracy: 0.6055\n",
            "Epoch 2/10\n",
            "100/100 [==============================] - 1s 7ms/step - loss: 1.1634 - accuracy: 0.5873 - val_loss: 0.9250 - val_accuracy: 0.7109\n",
            "Epoch 3/10\n",
            "100/100 [==============================] - 1s 7ms/step - loss: 0.8966 - accuracy: 0.6823 - val_loss: 0.7767 - val_accuracy: 0.7539\n",
            "Epoch 4/10\n",
            "100/100 [==============================] - 1s 7ms/step - loss: 0.7532 - accuracy: 0.7348 - val_loss: 0.6527 - val_accuracy: 0.7969\n",
            "Epoch 5/10\n",
            "100/100 [==============================] - 1s 8ms/step - loss: 0.6264 - accuracy: 0.7778 - val_loss: 0.6050 - val_accuracy: 0.8138\n",
            "Epoch 6/10\n",
            "100/100 [==============================] - 1s 11ms/step - loss: 0.5513 - accuracy: 0.8009 - val_loss: 0.5757 - val_accuracy: 0.8073\n",
            "Epoch 7/10\n",
            "100/100 [==============================] - 1s 12ms/step - loss: 0.4813 - accuracy: 0.8330 - val_loss: 0.5260 - val_accuracy: 0.8281\n",
            "Epoch 8/10\n",
            "100/100 [==============================] - 1s 13ms/step - loss: 0.4304 - accuracy: 0.8484 - val_loss: 0.5010 - val_accuracy: 0.8359\n",
            "Epoch 9/10\n",
            "100/100 [==============================] - 1s 14ms/step - loss: 0.3858 - accuracy: 0.8652 - val_loss: 0.5177 - val_accuracy: 0.8398\n",
            "Epoch 10/10\n",
            "100/100 [==============================] - 1s 9ms/step - loss: 0.3634 - accuracy: 0.8725 - val_loss: 0.4404 - val_accuracy: 0.8438\n"
          ]
        }
      ],
      "source": [
        "EPOCHS = 10\n",
        "history = model.fit(\n",
        "    train_spectrogram_ds,\n",
        "    validation_data=val_spectrogram_ds,\n",
        "    epochs=EPOCHS,\n",
        "    callbacks=tf.keras.callbacks.EarlyStopping(verbose=1, patience=2),\n",
        ")"
      ]
    },
    {
      "cell_type": "markdown",
      "metadata": {
        "id": "gjpCDeQ4mUfS"
      },
      "source": [
        "Let's plot the training and validation loss curves to check how your model has improved during training:"
      ]
    },
    {
      "cell_type": "code",
      "execution_count": 16,
      "metadata": {
        "id": "nzhipg3Gu2AY",
        "outputId": "2d2f9404-5e67-483d-d478-506c63266ced",
        "colab": {
          "base_uri": "https://localhost:8080/",
          "height": 445
        }
      },
      "outputs": [
        {
          "output_type": "execute_result",
          "data": {
            "text/plain": [
              "Text(0, 0.5, 'Accuracy [%]')"
            ]
          },
          "metadata": {},
          "execution_count": 16
        },
        {
          "output_type": "display_data",
          "data": {
            "text/plain": [
              "<Figure size 1600x600 with 2 Axes>"
            ],
            "image/png": "[encoded data removed]"
          },
          "metadata": {}
        }
      ],
      "source": [
        "metrics = history.history\n",
        "plt.figure(figsize=(16,6))\n",
        "plt.subplot(1,2,1)\n",
        "plt.plot(history.epoch, metrics['loss'], metrics['val_loss'])\n",
        "plt.legend(['loss', 'val_loss'])\n",
        "plt.ylim([0, max(plt.ylim())])\n",
        "plt.xlabel('Epoch')\n",
        "plt.ylabel('Loss [CrossEntropy]')\n",
        "\n",
        "plt.subplot(1,2,2)\n",
        "plt.plot(history.epoch, 100*np.array(metrics['accuracy']), 100*np.array(metrics['val_accuracy']))\n",
        "plt.legend(['accuracy', 'val_accuracy'])\n",
        "plt.ylim([0, 100])\n",
        "plt.xlabel('Epoch')\n",
        "plt.ylabel('Accuracy [%]')"
      ]
    },
    {
      "cell_type": "markdown",
      "metadata": {
        "id": "5ZTt3kO3mfm4"
      },
      "source": [
        "## Evaluate the model performance\n",
        "\n",
        "Run the model on the test set and check the model's performance:"
      ]
    },
    {
      "cell_type": "code",
      "execution_count": 17,
      "metadata": {
        "id": "FapuRT_SsWGQ",
        "outputId": "f9c96a90-f8a5-46b5-fe45-2d793abdbb1b",
        "colab": {
          "base_uri": "https://localhost:8080/"
        }
      },
      "outputs": [
        {
          "output_type": "stream",
          "name": "stdout",
          "text": [
            "13/13 [==============================] - 1s 96ms/step - loss: 0.4568 - accuracy: 0.8365\n"
          ]
        },
        {
          "output_type": "execute_result",
          "data": {
            "text/plain": [
              "{'loss': 0.4568479359149933, 'accuracy': 0.8365384340286255}"
            ]
          },
          "metadata": {},
          "execution_count": 17
        }
      ],
      "source": [
        "model.evaluate(test_spectrogram_ds, return_dict=True)"
      ]
    },
    {
      "cell_type": "markdown",
      "metadata": {
        "id": "en9Znt1NOabH"
      },
      "source": [
        "### Display a confusion matrix\n",
        "\n",
        "Use a [confusion matrix](https://developers.google.com/machine-learning/glossary#confusion-matrix) to check how well the model did classifying each of the recordings in the test set:\n"
      ]
    },
    {
      "cell_type": "code",
      "execution_count": 18,
      "metadata": {
        "id": "5Y6vmWWQuuT1",
        "outputId": "454af6c3-a961-43a8-c5fa-91265f97f228",
        "colab": {
          "base_uri": "https://localhost:8080/"
        }
      },
      "outputs": [
        {
          "output_type": "stream",
          "name": "stdout",
          "text": [
            "13/13 [==============================] - 0s 3ms/step\n"
          ]
        }
      ],
      "source": [
        "y_pred = model.predict(test_spectrogram_ds)"
      ]
    },
    {
      "cell_type": "code",
      "execution_count": 19,
      "metadata": {
        "id": "d6F0il82u7lW"
      },
      "outputs": [],
      "source": [
        "y_pred = tf.argmax(y_pred, axis=1)"
      ]
    },
    {
      "cell_type": "code",
      "execution_count": 20,
      "metadata": {
        "id": "vHSNoBYLvX81"
      },
      "outputs": [],
      "source": [
        "y_true = tf.concat(list(test_spectrogram_ds.map(lambda s,lab: lab)), axis=0)"
      ]
    },
    {
      "cell_type": "code",
      "execution_count": 21,
      "metadata": {
        "id": "LvoSAOiXU3lL",
        "outputId": "e177f7c6-325f-45f6-fd77-3f2e3d03b1fc",
        "colab": {
          "base_uri": "https://localhost:8080/",
          "height": 696
        }
      },
      "outputs": [
        {
          "output_type": "display_data",
          "data": {
            "text/plain": [
              "<Figure size 1000x800 with 2 Axes>"
            ],
            "image/png": "[encoded data removed]"
          },
          "metadata": {}
        }
      ],
      "source": [
        "confusion_mtx = tf.math.confusion_matrix(y_true, y_pred)\n",
        "plt.figure(figsize=(10, 8))\n",
        "sns.heatmap(confusion_mtx,\n",
        "            xticklabels=label_names,\n",
        "            yticklabels=label_names,\n",
        "            annot=True, fmt='g')\n",
        "plt.xlabel('Prediction')\n",
        "plt.ylabel('Label')\n",
        "plt.show()"
      ]
    },
    {
      "cell_type": "markdown",
      "metadata": {
        "id": "mQGi_mzPcLvl"
      },
      "source": [
        "## Check trained model for sample audio\n",
        "\n",
        "Finally, verify the model's prediction output using an input audio file. How well does your model perform?"
      ]
    },
    {
      "cell_type": "code",
      "source": [
        "#provide link to your sample file\n",
        "x = data_dir/'no/01bb6a2a_nohash_0.wav'\n",
        "#x = data_dir/'right/012c8314_nohash_1.wav'"
      ],
      "metadata": {
        "id": "x4MQiAAlw1kX"
      },
      "execution_count": 22,
      "outputs": []
    },
    {
      "cell_type": "code",
      "execution_count": 23,
      "metadata": {
        "id": "zRxauKMdhofU",
        "outputId": "3a7938b4-c2fa-47ab-ffcf-929efd12123c",
        "colab": {
          "base_uri": "https://localhost:8080/",
          "height": 487
        }
      },
      "outputs": [
        {
          "output_type": "display_data",
          "data": {
            "text/plain": [
              "<Figure size 640x480 with 1 Axes>"
            ],
            "image/png": "[encoded data removed]"
          },
          "metadata": {}
        },
        {
          "output_type": "display_data",
          "data": {
            "text/plain": [
              "<IPython.lib.display.Audio object>"
            ],
            "text/html": [
              "\n",
              "                <audio  controls=\"controls\" >\n",
              "                    <source src=\"data:audio/wav;base64,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\" type=\"audio/wav\" />\n",
              "                    Your browser does not support the audio element.\n",
              "                </audio>\n",
              "              "
            ]
          },
          "metadata": {}
        }
      ],
      "source": [
        "x = tf.io.read_file(str(x))\n",
        "x, sample_rate = tf.audio.decode_wav(x, desired_channels=1, desired_samples=16000,)\n",
        "x = tf.squeeze(x, axis=-1)\n",
        "waveform = x\n",
        "x = get_spectrogram(x)\n",
        "x = x[tf.newaxis,...]\n",
        "\n",
        "prediction = model(x)\n",
        "#x_labels = ['no', 'yes', 'down', 'go', 'left', 'up', 'right', 'stop']\n",
        "x_labels = ['down', 'go', 'left', 'no', 'right', 'stop', 'up', 'yes']\n",
        "plt.bar(x_labels, tf.nn.softmax(prediction[0]))\n",
        "plt.title('Prediction')\n",
        "plt.show()\n",
        "\n",
        "display.display(display.Audio(waveform, rate=16000))"
      ]
    }
  ],
  "metadata": {
    "accelerator": "GPU",
    "colab": {
      "provenance": [],
      "include_colab_link": true
    },
    "kernelspec": {
      "display_name": "Python 3",
      "name": "python3"
    },
    "gpuClass": "standard"
  },
  "nbformat": 4,
  "nbformat_minor": 0
}