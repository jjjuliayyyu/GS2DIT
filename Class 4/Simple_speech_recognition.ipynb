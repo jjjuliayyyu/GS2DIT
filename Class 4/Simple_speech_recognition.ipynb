{
  "cells": [
    {
      "cell_type": "markdown",
      "metadata": {
        "id": "view-in-github",
        "colab_type": "text"
      },
      "source": [
        "<a href=\"https://colab.research.google.com/github/jjjuliayyyu/GS2DIT/blob/main/Class%204/Simple_speech_recognition.ipynb\" target=\"_parent\"><img src=\"https://colab.research.google.com/assets/colab-badge.svg\" alt=\"Open In Colab\"/></a>"
      ]
    },
    {
      "cell_type": "markdown",
      "source": [
        "Code source: https://colab.research.google.com/github/tensorflow/docs/blob/master/site/en/tutorials/audio/simple_audio.ipynb#scrollTo=wTAg4vsn3oEb"
      ],
      "metadata": {
        "id": "B81jKekEobND"
      }
    },
    {
      "cell_type": "markdown",
      "metadata": {
        "id": "fluF3_oOgkWF"
      },
      "source": [
        "##### Copyright 2020 The TensorFlow Authors."
      ]
    },
    {
      "cell_type": "code",
      "execution_count": null,
      "metadata": {
        "id": "AJs7HHFmg1M9"
      },
      "outputs": [],
      "source": [
        "#@title Licensed under the Apache License, Version 2.0 (the \"License\");\n",
        "# you may not use this file except in compliance with the License.\n",
        "# You may obtain a copy of the License at\n",
        "#\n",
        "# https://www.apache.org/licenses/LICENSE-2.0\n",
        "#\n",
        "# Unless required by applicable law or agreed to in writing, software\n",
        "# distributed under the License is distributed on an \"AS IS\" BASIS,\n",
        "# WITHOUT WARRANTIES OR CONDITIONS OF ANY KIND, either express or implied.\n",
        "# See the License for the specific language governing permissions and\n",
        "# limitations under the License."
      ]
    },
    {
      "cell_type": "markdown",
      "metadata": {
        "id": "jYysdyb-CaWM"
      },
      "source": [
        "# Simple audio recognition: Recognizing keywords"
      ]
    },
    {
      "cell_type": "markdown",
      "metadata": {
        "id": "CNbqmZy0gbyE"
      },
      "source": [
        "<table class=\"tfo-notebook-buttons\" align=\"left\">\n",
        "  <td>\n",
        "    <a target=\"_blank\" href=\"https://colab.research.google.com/drive/1Ga0X5AwxcpYIH55vgMxBawa9_tjW7KIL#scrollTo=CNbqmZy0gbyE\">\n",
        "    <img src=\"https://www.tensorflow.org/images/colab_logo_32px.png\" />\n",
        "    Run in Google Colab</a>\n",
        "  </td>\n",
        "</table>"
      ]
    },
    {
      "cell_type": "markdown",
      "metadata": {
        "id": "SPfDNFlb66XF"
      },
      "source": [
        "This tutorial demonstrates how to preprocess audio files in the WAV format and build and train a basic [automatic speech recognition](https://en.wikipedia.org/wiki/Speech_recognition) (ASR) model for recognizing ten different words. You will use a portion of the [Speech Commands dataset](https://www.tensorflow.org/datasets/catalog/speech_commands) ([Warden, 2018](https://arxiv.org/abs/1804.03209)), which contains short (one-second or less) audio clips of commands, such as \"down\", \"go\", \"left\", \"no\", \"right\", \"stop\", \"up\" and \"yes\"."
      ]
    },
    {
      "cell_type": "markdown",
      "metadata": {
        "id": "Go9C3uLL8Izc"
      },
      "source": [
        "## Setup\n",
        "\n",
        "Download and install necessary dependencies"
      ]
    },
    {
      "cell_type": "code",
      "source": [
        "!pip install tensorflow==2.10 tensorflow_datasets\n",
        "!apt install --allow-change-held-packages libcudnn8=8.1.0.77-1+cuda11.2"
      ],
      "metadata": {
        "id": "2tuvqtpIzKXK",
        "outputId": "4e8ad732-cdc2-499a-a434-84ce7f841eda",
        "colab": {
          "base_uri": "https://localhost:8080/",
          "height": 1000
        }
      },
      "execution_count": 1,
      "outputs": [
        {
          "output_type": "stream",
          "name": "stdout",
          "text": [
            "Looking in indexes: https://pypi.org/simple, https://us-python.pkg.dev/colab-wheels/public/simple/\n",
            "Collecting tensorflow==2.10\n",
            "  Downloading tensorflow-2.10.0-cp39-cp39-manylinux_2_17_x86_64.manylinux2014_x86_64.whl (578.1 MB)\n",
            "\u001b[2K     \u001b[90m━━━━━━━━━━━━━━━━━━━━━━━━━━━━━━━━━━━━━━━\u001b[0m \u001b[32m578.1/578.1 MB\u001b[0m \u001b[31m2.2 MB/s\u001b[0m eta \u001b[36m0:00:00\u001b[0m\n",
            "\u001b[?25hRequirement already satisfied: tensorflow_datasets in /usr/local/lib/python3.9/dist-packages (4.8.3)\n",
            "Collecting tensorboard<2.11,>=2.10\n",
            "  Downloading tensorboard-2.10.1-py3-none-any.whl (5.9 MB)\n",
            "\u001b[2K     \u001b[90m━━━━━━━━━━━━━━━━━━━━━━━━━━━━━━━━━━━━━━━━\u001b[0m \u001b[32m5.9/5.9 MB\u001b[0m \u001b[31m35.5 MB/s\u001b[0m eta \u001b[36m0:00:00\u001b[0m\n",
            "\u001b[?25hRequirement already satisfied: astunparse>=1.6.0 in /usr/local/lib/python3.9/dist-packages (from tensorflow==2.10) (1.6.3)\n",
            "Requirement already satisfied: typing-extensions>=3.6.6 in /usr/local/lib/python3.9/dist-packages (from tensorflow==2.10) (4.5.0)\n",
            "Collecting tensorflow-estimator<2.11,>=2.10.0\n",
            "  Downloading tensorflow_estimator-2.10.0-py2.py3-none-any.whl (438 kB)\n",
            "\u001b[2K     \u001b[90m━━━━━━━━━━━━━━━━━━━━━━━━━━━━━━━━━━━━━━\u001b[0m \u001b[32m438.7/438.7 KB\u001b[0m \u001b[31m32.2 MB/s\u001b[0m eta \u001b[36m0:00:00\u001b[0m\n",
            "\u001b[?25hRequirement already satisfied: numpy>=1.20 in /usr/local/lib/python3.9/dist-packages (from tensorflow==2.10) (1.22.4)\n",
            "Requirement already satisfied: grpcio<2.0,>=1.24.3 in /usr/local/lib/python3.9/dist-packages (from tensorflow==2.10) (1.53.0)\n",
            "Requirement already satisfied: gast<=0.4.0,>=0.2.1 in /usr/local/lib/python3.9/dist-packages (from tensorflow==2.10) (0.4.0)\n",
            "Requirement already satisfied: termcolor>=1.1.0 in /usr/local/lib/python3.9/dist-packages (from tensorflow==2.10) (2.2.0)\n",
            "Requirement already satisfied: h5py>=2.9.0 in /usr/local/lib/python3.9/dist-packages (from tensorflow==2.10) (3.8.0)\n",
            "Requirement already satisfied: flatbuffers>=2.0 in /usr/local/lib/python3.9/dist-packages (from tensorflow==2.10) (23.3.3)\n",
            "Collecting keras-preprocessing>=1.1.1\n",
            "  Downloading Keras_Preprocessing-1.1.2-py2.py3-none-any.whl (42 kB)\n",
            "\u001b[2K     \u001b[90m━━━━━━━━━━━━━━━━━━━━━━━━━━━━━━━━━━━━━━━━\u001b[0m \u001b[32m42.6/42.6 KB\u001b[0m \u001b[31m2.7 MB/s\u001b[0m eta \u001b[36m0:00:00\u001b[0m\n",
            "\u001b[?25hRequirement already satisfied: tensorflow-io-gcs-filesystem>=0.23.1 in /usr/local/lib/python3.9/dist-packages (from tensorflow==2.10) (0.32.0)\n",
            "Requirement already satisfied: google-pasta>=0.1.1 in /usr/local/lib/python3.9/dist-packages (from tensorflow==2.10) (0.2.0)\n",
            "Requirement already satisfied: opt-einsum>=2.3.2 in /usr/local/lib/python3.9/dist-packages (from tensorflow==2.10) (3.3.0)\n",
            "Requirement already satisfied: six>=1.12.0 in /usr/local/lib/python3.9/dist-packages (from tensorflow==2.10) (1.16.0)\n",
            "Collecting keras<2.11,>=2.10.0\n",
            "  Downloading keras-2.10.0-py2.py3-none-any.whl (1.7 MB)\n",
            "\u001b[2K     \u001b[90m━━━━━━━━━━━━━━━━━━━━━━━━━━━━━━━━━━━━━━━━\u001b[0m \u001b[32m1.7/1.7 MB\u001b[0m \u001b[31m53.7 MB/s\u001b[0m eta \u001b[36m0:00:00\u001b[0m\n",
            "\u001b[?25hRequirement already satisfied: wrapt>=1.11.0 in /usr/local/lib/python3.9/dist-packages (from tensorflow==2.10) (1.14.1)\n",
            "Requirement already satisfied: libclang>=13.0.0 in /usr/local/lib/python3.9/dist-packages (from tensorflow==2.10) (16.0.0)\n",
            "Collecting protobuf<3.20,>=3.9.2\n",
            "  Downloading protobuf-3.19.6-cp39-cp39-manylinux_2_17_x86_64.manylinux2014_x86_64.whl (1.1 MB)\n",
            "\u001b[2K     \u001b[90m━━━━━━━━━━━━━━━━━━━━━━━━━━━━━━━━━━━━━━━━\u001b[0m \u001b[32m1.1/1.1 MB\u001b[0m \u001b[31m53.7 MB/s\u001b[0m eta \u001b[36m0:00:00\u001b[0m\n",
            "\u001b[?25hRequirement already satisfied: setuptools in /usr/local/lib/python3.9/dist-packages (from tensorflow==2.10) (67.6.1)\n",
            "Requirement already satisfied: absl-py>=1.0.0 in /usr/local/lib/python3.9/dist-packages (from tensorflow==2.10) (1.4.0)\n",
            "Requirement already satisfied: packaging in /usr/local/lib/python3.9/dist-packages (from tensorflow==2.10) (23.0)\n",
            "Requirement already satisfied: tqdm in /usr/local/lib/python3.9/dist-packages (from tensorflow_datasets) (4.65.0)\n",
            "Requirement already satisfied: etils[enp,epath]>=0.9.0 in /usr/local/lib/python3.9/dist-packages (from tensorflow_datasets) (1.1.1)\n",
            "Requirement already satisfied: toml in /usr/local/lib/python3.9/dist-packages (from tensorflow_datasets) (0.10.2)\n",
            "Requirement already satisfied: dm-tree in /usr/local/lib/python3.9/dist-packages (from tensorflow_datasets) (0.1.8)\n",
            "Requirement already satisfied: psutil in /usr/local/lib/python3.9/dist-packages (from tensorflow_datasets) (5.9.4)\n",
            "Requirement already satisfied: promise in /usr/local/lib/python3.9/dist-packages (from tensorflow_datasets) (2.3)\n",
            "Requirement already satisfied: requests>=2.19.0 in /usr/local/lib/python3.9/dist-packages (from tensorflow_datasets) (2.27.1)\n",
            "Requirement already satisfied: tensorflow-metadata in /usr/local/lib/python3.9/dist-packages (from tensorflow_datasets) (1.12.0)\n",
            "Requirement already satisfied: click in /usr/local/lib/python3.9/dist-packages (from tensorflow_datasets) (8.1.3)\n",
            "Requirement already satisfied: wheel<1.0,>=0.23.0 in /usr/local/lib/python3.9/dist-packages (from astunparse>=1.6.0->tensorflow==2.10) (0.40.0)\n",
            "Requirement already satisfied: importlib_resources in /usr/local/lib/python3.9/dist-packages (from etils[enp,epath]>=0.9.0->tensorflow_datasets) (5.12.0)\n",
            "Requirement already satisfied: zipp in /usr/local/lib/python3.9/dist-packages (from etils[enp,epath]>=0.9.0->tensorflow_datasets) (3.15.0)\n",
            "Requirement already satisfied: certifi>=2017.4.17 in /usr/local/lib/python3.9/dist-packages (from requests>=2.19.0->tensorflow_datasets) (2022.12.7)\n",
            "Requirement already satisfied: idna<4,>=2.5 in /usr/local/lib/python3.9/dist-packages (from requests>=2.19.0->tensorflow_datasets) (3.4)\n",
            "Requirement already satisfied: charset-normalizer~=2.0.0 in /usr/local/lib/python3.9/dist-packages (from requests>=2.19.0->tensorflow_datasets) (2.0.12)\n",
            "Requirement already satisfied: urllib3<1.27,>=1.21.1 in /usr/local/lib/python3.9/dist-packages (from requests>=2.19.0->tensorflow_datasets) (1.26.15)\n",
            "Collecting tensorboard-data-server<0.7.0,>=0.6.0\n",
            "  Downloading tensorboard_data_server-0.6.1-py3-none-manylinux2010_x86_64.whl (4.9 MB)\n",
            "\u001b[2K     \u001b[90m━━━━━━━━━━━━━━━━━━━━━━━━━━━━━━━━━━━━━━━━\u001b[0m \u001b[32m4.9/4.9 MB\u001b[0m \u001b[31m52.0 MB/s\u001b[0m eta \u001b[36m0:00:00\u001b[0m\n",
            "\u001b[?25hRequirement already satisfied: google-auth-oauthlib<0.5,>=0.4.1 in /usr/local/lib/python3.9/dist-packages (from tensorboard<2.11,>=2.10->tensorflow==2.10) (0.4.6)\n",
            "Requirement already satisfied: werkzeug>=1.0.1 in /usr/local/lib/python3.9/dist-packages (from tensorboard<2.11,>=2.10->tensorflow==2.10) (2.2.3)\n",
            "Requirement already satisfied: google-auth<3,>=1.6.3 in /usr/local/lib/python3.9/dist-packages (from tensorboard<2.11,>=2.10->tensorflow==2.10) (2.17.1)\n",
            "Requirement already satisfied: tensorboard-plugin-wit>=1.6.0 in /usr/local/lib/python3.9/dist-packages (from tensorboard<2.11,>=2.10->tensorflow==2.10) (1.8.1)\n",
            "Requirement already satisfied: markdown>=2.6.8 in /usr/local/lib/python3.9/dist-packages (from tensorboard<2.11,>=2.10->tensorflow==2.10) (3.4.3)\n",
            "Requirement already satisfied: googleapis-common-protos<2,>=1.52.0 in /usr/local/lib/python3.9/dist-packages (from tensorflow-metadata->tensorflow_datasets) (1.59.0)\n",
            "Requirement already satisfied: pyasn1-modules>=0.2.1 in /usr/local/lib/python3.9/dist-packages (from google-auth<3,>=1.6.3->tensorboard<2.11,>=2.10->tensorflow==2.10) (0.2.8)\n",
            "Requirement already satisfied: rsa<5,>=3.1.4 in /usr/local/lib/python3.9/dist-packages (from google-auth<3,>=1.6.3->tensorboard<2.11,>=2.10->tensorflow==2.10) (4.9)\n",
            "Requirement already satisfied: cachetools<6.0,>=2.0.0 in /usr/local/lib/python3.9/dist-packages (from google-auth<3,>=1.6.3->tensorboard<2.11,>=2.10->tensorflow==2.10) (5.3.0)\n",
            "Requirement already satisfied: requests-oauthlib>=0.7.0 in /usr/local/lib/python3.9/dist-packages (from google-auth-oauthlib<0.5,>=0.4.1->tensorboard<2.11,>=2.10->tensorflow==2.10) (1.3.1)\n",
            "Requirement already satisfied: importlib-metadata>=4.4 in /usr/local/lib/python3.9/dist-packages (from markdown>=2.6.8->tensorboard<2.11,>=2.10->tensorflow==2.10) (6.1.0)\n",
            "Requirement already satisfied: MarkupSafe>=2.1.1 in /usr/local/lib/python3.9/dist-packages (from werkzeug>=1.0.1->tensorboard<2.11,>=2.10->tensorflow==2.10) (2.1.2)\n",
            "Requirement already satisfied: pyasn1<0.5.0,>=0.4.6 in /usr/local/lib/python3.9/dist-packages (from pyasn1-modules>=0.2.1->google-auth<3,>=1.6.3->tensorboard<2.11,>=2.10->tensorflow==2.10) (0.4.8)\n",
            "Requirement already satisfied: oauthlib>=3.0.0 in /usr/local/lib/python3.9/dist-packages (from requests-oauthlib>=0.7.0->google-auth-oauthlib<0.5,>=0.4.1->tensorboard<2.11,>=2.10->tensorflow==2.10) (3.2.2)\n",
            "Installing collected packages: keras, tensorflow-estimator, tensorboard-data-server, protobuf, keras-preprocessing, tensorboard, tensorflow\n",
            "  Attempting uninstall: keras\n",
            "    Found existing installation: keras 2.12.0\n",
            "    Uninstalling keras-2.12.0:\n",
            "      Successfully uninstalled keras-2.12.0\n",
            "  Attempting uninstall: tensorflow-estimator\n",
            "    Found existing installation: tensorflow-estimator 2.12.0\n",
            "    Uninstalling tensorflow-estimator-2.12.0:\n",
            "      Successfully uninstalled tensorflow-estimator-2.12.0\n",
            "  Attempting uninstall: tensorboard-data-server\n",
            "    Found existing installation: tensorboard-data-server 0.7.0\n",
            "    Uninstalling tensorboard-data-server-0.7.0:\n",
            "      Successfully uninstalled tensorboard-data-server-0.7.0\n",
            "  Attempting uninstall: protobuf\n",
            "    Found existing installation: protobuf 3.20.3\n",
            "    Uninstalling protobuf-3.20.3:\n",
            "      Successfully uninstalled protobuf-3.20.3\n",
            "  Attempting uninstall: tensorboard\n",
            "    Found existing installation: tensorboard 2.12.0\n",
            "    Uninstalling tensorboard-2.12.0:\n",
            "      Successfully uninstalled tensorboard-2.12.0\n",
            "  Attempting uninstall: tensorflow\n",
            "    Found existing installation: tensorflow 2.12.0\n",
            "    Uninstalling tensorflow-2.12.0:\n",
            "      Successfully uninstalled tensorflow-2.12.0\n",
            "Successfully installed keras-2.10.0 keras-preprocessing-1.1.2 protobuf-3.19.6 tensorboard-2.10.1 tensorboard-data-server-0.6.1 tensorflow-2.10.0 tensorflow-estimator-2.10.0\n"
          ]
        },
        {
          "output_type": "display_data",
          "data": {
            "application/vnd.colab-display-data+json": {
              "pip_warning": {
                "packages": [
                  "google"
                ]
              }
            }
          },
          "metadata": {}
        },
        {
          "output_type": "stream",
          "name": "stdout",
          "text": [
            "Reading package lists... Done\n",
            "Building dependency tree       \n",
            "Reading state information... Done\n",
            "The following package was automatically installed and is no longer required:\n",
            "  libnvidia-common-525\n",
            "Use 'apt autoremove' to remove it.\n",
            "The following packages will be REMOVED:\n",
            "  libcudnn8-dev\n",
            "The following held packages will be changed:\n",
            "  libcudnn8\n",
            "The following packages will be DOWNGRADED:\n",
            "  libcudnn8\n",
            "0 upgraded, 0 newly installed, 1 downgraded, 1 to remove and 21 not upgraded.\n",
            "Need to get 430 MB of archives.\n",
            "After this operation, 1,153 MB disk space will be freed.\n",
            "Get:1 https://developer.download.nvidia.com/compute/cuda/repos/ubuntu2004/x86_64  libcudnn8 8.1.0.77-1+cuda11.2 [430 MB]\n",
            "Fetched 430 MB in 12s (34.9 MB/s)\n",
            "(Reading database ... 128293 files and directories currently installed.)\n",
            "Removing libcudnn8-dev (8.7.0.84-1+cuda11.8) ...\n",
            "update-alternatives: removing manually selected alternative - switching libcudnn to auto mode\n",
            "\u001b[1mdpkg:\u001b[0m \u001b[1;33mwarning:\u001b[0m downgrading libcudnn8 from 8.7.0.84-1+cuda11.8 to 8.1.0.77-1+cuda11.2\n",
            "(Reading database ... 128260 files and directories currently installed.)\n",
            "Preparing to unpack .../libcudnn8_8.1.0.77-1+cuda11.2_amd64.deb ...\n",
            "Unpacking libcudnn8 (8.1.0.77-1+cuda11.2) over (8.7.0.84-1+cuda11.8) ...\n",
            "Setting up libcudnn8 (8.1.0.77-1+cuda11.2) ...\n"
          ]
        }
      ]
    },
    {
      "cell_type": "code",
      "execution_count": 1,
      "metadata": {
        "id": "dzLKpmZICaWN"
      },
      "outputs": [],
      "source": [
        "import os\n",
        "import pathlib\n",
        "\n",
        "import matplotlib.pyplot as plt\n",
        "import numpy as np\n",
        "import seaborn as sns\n",
        "import tensorflow as tf\n",
        "\n",
        "from tensorflow.keras import layers\n",
        "from tensorflow.keras import models\n",
        "from IPython import display\n",
        "\n",
        "# Set the seed value for experiment reproducibility.\n",
        "seed = 42\n",
        "tf.random.set_seed(seed)\n",
        "np.random.seed(seed)"
      ]
    },
    {
      "cell_type": "markdown",
      "metadata": {
        "id": "yR0EdgrLCaWR"
      },
      "source": [
        "## Import the mini Speech Commands dataset\n",
        "\n",
        "To save time with data loading, you will be working with a smaller version of the Speech Commands dataset.\n",
        "Download and extract the `mini_speech_commands.zip` file containing the smaller Speech Commands datasets with `tf.keras.utils.get_file`:"
      ]
    },
    {
      "cell_type": "code",
      "execution_count": 2,
      "metadata": {
        "id": "2-rayb7-3Y0I",
        "outputId": "f9028c05-eb76-4447-b499-fd0d65db118b",
        "colab": {
          "base_uri": "https://localhost:8080/"
        }
      },
      "outputs": [
        {
          "output_type": "stream",
          "name": "stdout",
          "text": [
            "Downloading data from http://storage.googleapis.com/download.tensorflow.org/data/mini_speech_commands.zip\n",
            "182082353/182082353 [==============================] - 5s 0us/step\n"
          ]
        }
      ],
      "source": [
        "DATASET_PATH = 'data/mini_speech_commands'\n",
        "\n",
        "data_dir = pathlib.Path(DATASET_PATH)\n",
        "if not data_dir.exists():\n",
        "  tf.keras.utils.get_file(\n",
        "      'mini_speech_commands.zip',\n",
        "      origin=\"http://storage.googleapis.com/download.tensorflow.org/data/mini_speech_commands.zip\",\n",
        "      extract=True,\n",
        "      cache_dir='.', cache_subdir='data')"
      ]
    },
    {
      "cell_type": "markdown",
      "metadata": {
        "id": "BgvFq3uYiS5G"
      },
      "source": [
        "The dataset's audio clips are stored in eight folders corresponding to each speech command: `no`, `yes`, `down`, `go`, `left`, `up`, `right`, and `stop`:"
      ]
    },
    {
      "cell_type": "code",
      "execution_count": 3,
      "metadata": {
        "id": "70IBxSKxA1N9",
        "outputId": "4ff3abd4-cfc9-4e8d-8a4f-3d8e39e39d60",
        "colab": {
          "base_uri": "https://localhost:8080/"
        }
      },
      "outputs": [
        {
          "output_type": "stream",
          "name": "stdout",
          "text": [
            "Commands: ['stop' 'up' 'right' 'left' 'no' 'down' 'go' 'yes']\n"
          ]
        }
      ],
      "source": [
        "commands = np.array(tf.io.gfile.listdir(str(data_dir)))\n",
        "commands = commands[(commands != 'README.md') & (commands != '.DS_Store')]\n",
        "print('Commands:', commands)"
      ]
    },
    {
      "cell_type": "markdown",
      "metadata": {
        "id": "TZ7GJjDvHqtt"
      },
      "source": [
        "Now we split the data into train and test datasets.\n",
        "\n",
        "The audio clips are 1 second or less at 16kHz."
      ]
    },
    {
      "cell_type": "code",
      "execution_count": 4,
      "metadata": {
        "id": "mFM4c3aMC8Qv",
        "outputId": "1001d763-765a-4d7f-d464-7ff673b100e2",
        "colab": {
          "base_uri": "https://localhost:8080/"
        }
      },
      "outputs": [
        {
          "output_type": "stream",
          "name": "stdout",
          "text": [
            "Found 8000 files belonging to 8 classes.\n",
            "Using 6400 files for training.\n",
            "Using 1600 files for validation.\n",
            "\n",
            "label names: ['down' 'go' 'left' 'no' 'right' 'stop' 'up' 'yes']\n"
          ]
        }
      ],
      "source": [
        "train_ds, val_ds = tf.keras.utils.audio_dataset_from_directory(\n",
        "    directory=data_dir,\n",
        "    batch_size=64,\n",
        "    validation_split=0.2,\n",
        "    seed=0,\n",
        "    output_sequence_length=16000,\n",
        "    subset='both')\n",
        "\n",
        "label_names = np.array(train_ds.class_names)\n",
        "print()\n",
        "print(\"label names:\", label_names)"
      ]
    },
    {
      "cell_type": "code",
      "execution_count": 5,
      "metadata": {
        "id": "Xl-tnniUIBlM"
      },
      "outputs": [],
      "source": [
        "def squeeze(audio, labels):\n",
        "  audio = tf.squeeze(audio, axis=-1)\n",
        "  return audio, labels\n",
        "\n",
        "train_ds = train_ds.map(squeeze, tf.data.AUTOTUNE)\n",
        "val_ds = val_ds.map(squeeze, tf.data.AUTOTUNE)"
      ]
    },
    {
      "cell_type": "markdown",
      "metadata": {
        "id": "DtsCSWZN5ILv"
      },
      "source": [
        "We have to split our calidation dataset into val and test set."
      ]
    },
    {
      "cell_type": "code",
      "execution_count": 6,
      "metadata": {
        "id": "u5UEGsqM5Gss"
      },
      "outputs": [],
      "source": [
        "test_ds = val_ds.shard(num_shards=2, index=0)\n",
        "val_ds = val_ds.shard(num_shards=2, index=1)"
      ]
    },
    {
      "cell_type": "code",
      "execution_count": 7,
      "metadata": {
        "id": "xIeoJcwJH5h9",
        "outputId": "9b7065af-166a-4f72-ebec-c1e3aaa17e72",
        "colab": {
          "base_uri": "https://localhost:8080/"
        }
      },
      "outputs": [
        {
          "output_type": "stream",
          "name": "stdout",
          "text": [
            "(64, 16000)\n",
            "(64,)\n"
          ]
        }
      ],
      "source": [
        "for example_audio, example_labels in train_ds.take(1):  \n",
        "  print(example_audio.shape)\n",
        "  print(example_labels.shape)"
      ]
    },
    {
      "cell_type": "markdown",
      "metadata": {
        "id": "voxGEwvuh2L7"
      },
      "source": [
        "Let's plot a few audio waveforms:"
      ]
    },
    {
      "cell_type": "markdown",
      "metadata": {
        "id": "EWXPphxm0B4m"
      },
      "source": [
        "## Convert waveforms to spectrograms\n",
        "\n",
        "The waveforms in the dataset are represented in the time domain. Next, you'll transform the waveforms from the time-domain signals into the time-frequency-domain signals by computing the [short-time Fourier transform (STFT)](https://en.wikipedia.org/wiki/Short-time_Fourier_transform) to convert the waveforms to as [spectrograms](https://en.wikipedia.org/wiki/Spectrogram), which show frequency changes over time and can be represented as 2D images."
      ]
    },
    {
      "cell_type": "code",
      "execution_count": 8,
      "metadata": {
        "id": "_4CK75DHz_OR"
      },
      "outputs": [],
      "source": [
        "def get_spectrogram(waveform):\n",
        "  # Convert the waveform to a spectrogram via a STFT.\n",
        "  spectrogram = tf.signal.stft(\n",
        "      waveform, frame_length=255, frame_step=128)\n",
        "  # Obtain the magnitude of the STFT.\n",
        "  spectrogram = tf.abs(spectrogram)\n",
        "  # Add a `channels` dimension, so that the spectrogram can be used\n",
        "  # as image-like input data with convolution layers (which expect\n",
        "  # shape (`batch_size`, `height`, `width`, `channels`).\n",
        "  spectrogram = spectrogram[..., tf.newaxis]\n",
        "  return spectrogram"
      ]
    },
    {
      "cell_type": "markdown",
      "metadata": {
        "id": "xnSuqyxJ1isF"
      },
      "source": [
        "Now, define a function for displaying a spectrogram:"
      ]
    },
    {
      "cell_type": "code",
      "execution_count": null,
      "metadata": {
        "id": "e62jzb36-Jog"
      },
      "outputs": [],
      "source": [
        "#def plot_spectrogram(spectrogram, ax):\n",
        "#  if len(spectrogram.shape) > 2:\n",
        "#    assert len(spectrogram.shape) == 3\n",
        "#    spectrogram = np.squeeze(spectrogram, axis=-1)\n",
        "#  # Convert the frequencies to log scale and transpose, so that the time is\n",
        "#  # represented on the x-axis (columns).\n",
        "#  # Add an epsilon to avoid taking a log of zero.\n",
        "#  log_spec = np.log(spectrogram.T + np.finfo(float).eps)\n",
        "#  height = log_spec.shape[0]\n",
        "#  width = log_spec.shape[1]\n",
        "#  X = np.linspace(0, np.size(spectrogram), num=width, dtype=int)\n",
        "#  Y = range(height)\n",
        "#  ax.pcolormesh(X, Y, log_spec)"
      ]
    },
    {
      "cell_type": "markdown",
      "metadata": {
        "id": "GyYXjW07jCHA"
      },
      "source": [
        "Now, create spectrogramn datasets from the audio datasets:"
      ]
    },
    {
      "cell_type": "code",
      "execution_count": 9,
      "metadata": {
        "id": "mAD0LpkgqtQo"
      },
      "outputs": [],
      "source": [
        "def make_spec_ds(ds):\n",
        "  return ds.map(\n",
        "      map_func=lambda audio,label: (get_spectrogram(audio), label),\n",
        "      num_parallel_calls=tf.data.AUTOTUNE)"
      ]
    },
    {
      "cell_type": "code",
      "execution_count": 10,
      "metadata": {
        "id": "yEVb_oK0oBLQ"
      },
      "outputs": [],
      "source": [
        "train_spectrogram_ds = make_spec_ds(train_ds)\n",
        "val_spectrogram_ds = make_spec_ds(val_ds)\n",
        "test_spectrogram_ds = make_spec_ds(test_ds)"
      ]
    },
    {
      "cell_type": "code",
      "source": [
        "for example_spectrograms, example_spect_labels in train_spectrogram_ds.take(1):\n",
        "  break"
      ],
      "metadata": {
        "id": "Pp8S55hQuGgH"
      },
      "execution_count": 11,
      "outputs": []
    },
    {
      "cell_type": "markdown",
      "metadata": {
        "id": "z5KdY8IF8rkt"
      },
      "source": [
        "## Build and train the model"
      ]
    },
    {
      "cell_type": "code",
      "execution_count": 12,
      "metadata": {
        "id": "fdZ6M-F5_QzY"
      },
      "outputs": [],
      "source": [
        "train_spectrogram_ds = train_spectrogram_ds.cache().shuffle(10000).prefetch(tf.data.AUTOTUNE)\n",
        "val_spectrogram_ds = val_spectrogram_ds.cache().prefetch(tf.data.AUTOTUNE)\n",
        "test_spectrogram_ds = test_spectrogram_ds.cache().prefetch(tf.data.AUTOTUNE)"
      ]
    },
    {
      "cell_type": "markdown",
      "metadata": {
        "id": "rwHkKCQQb5oW"
      },
      "source": [
        "For the model, you'll use a simple convolutional neural network (CNN), since you have transformed the audio files into spectrogram images.\n",
        "\n",
        "Your `tf.keras.Sequential` model will use the following Keras preprocessing layers:\n",
        "\n",
        "- `tf.keras.layers.Resizing`: to downsample the input to enable the model to train faster.\n",
        "- `tf.keras.layers.Normalization`: to normalize each pixel in the image based on its mean and standard deviation."
      ]
    },
    {
      "cell_type": "code",
      "execution_count": 13,
      "metadata": {
        "id": "ALYz7PFCHblP",
        "outputId": "317091eb-50ea-4d2e-c39b-7819b7818218",
        "colab": {
          "base_uri": "https://localhost:8080/"
        }
      },
      "outputs": [
        {
          "output_type": "stream",
          "name": "stdout",
          "text": [
            "Input shape: (124, 129, 1)\n",
            "Model: \"sequential\"\n",
            "_________________________________________________________________\n",
            " Layer (type)                Output Shape              Param #   \n",
            "=================================================================\n",
            " resizing (Resizing)         (None, 32, 32, 1)         0         \n",
            "                                                                 \n",
            " normalization (Normalizatio  (None, 32, 32, 1)        3         \n",
            " n)                                                              \n",
            "                                                                 \n",
            " conv2d (Conv2D)             (None, 30, 30, 32)        320       \n",
            "                                                                 \n",
            " conv2d_1 (Conv2D)           (None, 28, 28, 64)        18496     \n",
            "                                                                 \n",
            " max_pooling2d (MaxPooling2D  (None, 14, 14, 64)       0         \n",
            " )                                                               \n",
            "                                                                 \n",
            " dropout (Dropout)           (None, 14, 14, 64)        0         \n",
            "                                                                 \n",
            " flatten (Flatten)           (None, 12544)             0         \n",
            "                                                                 \n",
            " dense (Dense)               (None, 128)               1605760   \n",
            "                                                                 \n",
            " dropout_1 (Dropout)         (None, 128)               0         \n",
            "                                                                 \n",
            " dense_1 (Dense)             (None, 8)                 1032      \n",
            "                                                                 \n",
            "=================================================================\n",
            "Total params: 1,625,611\n",
            "Trainable params: 1,625,608\n",
            "Non-trainable params: 3\n",
            "_________________________________________________________________\n"
          ]
        }
      ],
      "source": [
        "input_shape = example_spectrograms.shape[1:]\n",
        "print('Input shape:', input_shape)\n",
        "num_labels = len(label_names)\n",
        "\n",
        "# Instantiate the `tf.keras.layers.Normalization` layer.\n",
        "norm_layer = layers.Normalization()\n",
        "# Fit the state of the layer to the spectrograms\n",
        "# with `Normalization.adapt`.\n",
        "norm_layer.adapt(data=train_spectrogram_ds.map(map_func=lambda spec, label: spec))\n",
        "\n",
        "model = models.Sequential([\n",
        "    tf.keras.layers.Input(shape=input_shape),\n",
        "    # Downsample the input.\n",
        "    tf.keras.layers.Resizing(32, 32),\n",
        "    # Normalize.\n",
        "    norm_layer,\n",
        "    tf.keras.layers.Conv2D(32, 3, activation='relu'),\n",
        "    tf.keras.layers.Conv2D(64, 3, activation='relu'),\n",
        "    tf.keras.layers.MaxPooling2D(),\n",
        "    tf.keras.layers.Dropout(0.25),\n",
        "    tf.keras.layers.Flatten(),\n",
        "    tf.keras.layers.Dense(128, activation='relu'),\n",
        "    tf.keras.layers.Dropout(0.5),\n",
        "    tf.keras.layers.Dense(num_labels),\n",
        "])\n",
        "\n",
        "model.summary()"
      ]
    },
    {
      "cell_type": "markdown",
      "metadata": {
        "id": "de52e5afa2f3"
      },
      "source": [
        "Configure the Keras model with the Adam optimizer and the cross-entropy loss:"
      ]
    },
    {
      "cell_type": "code",
      "execution_count": 14,
      "metadata": {
        "id": "wFjj7-EmsTD-"
      },
      "outputs": [],
      "source": [
        "model.compile(\n",
        "    optimizer=tf.keras.optimizers.Adam(),\n",
        "    loss=tf.keras.losses.SparseCategoricalCrossentropy(from_logits=True),\n",
        "    metrics=['accuracy'],\n",
        ")"
      ]
    },
    {
      "cell_type": "markdown",
      "metadata": {
        "id": "f42b9e3a4705"
      },
      "source": [
        "Train the model over 10 epochs for demonstration purposes:"
      ]
    },
    {
      "cell_type": "code",
      "execution_count": 15,
      "metadata": {
        "id": "ttioPJVMcGtq",
        "outputId": "eca4abfd-2ebf-4bc5-ddea-a2b7dd72e725",
        "colab": {
          "base_uri": "https://localhost:8080/"
        }
      },
      "outputs": [
        {
          "output_type": "stream",
          "name": "stdout",
          "text": [
            "Epoch 1/10\n",
            "100/100 [==============================] - 8s 25ms/step - loss: 1.7142 - accuracy: 0.3817 - val_loss: 1.2506 - val_accuracy: 0.6055\n",
            "Epoch 2/10\n",
            "100/100 [==============================] - 1s 7ms/step - loss: 1.1634 - accuracy: 0.5873 - val_loss: 0.9250 - val_accuracy: 0.7109\n",
            "Epoch 3/10\n",
            "100/100 [==============================] - 1s 7ms/step - loss: 0.8966 - accuracy: 0.6823 - val_loss: 0.7767 - val_accuracy: 0.7539\n",
            "Epoch 4/10\n",
            "100/100 [==============================] - 1s 7ms/step - loss: 0.7532 - accuracy: 0.7348 - val_loss: 0.6527 - val_accuracy: 0.7969\n",
            "Epoch 5/10\n",
            "100/100 [==============================] - 1s 8ms/step - loss: 0.6264 - accuracy: 0.7778 - val_loss: 0.6050 - val_accuracy: 0.8138\n",
            "Epoch 6/10\n",
            "100/100 [==============================] - 1s 11ms/step - loss: 0.5513 - accuracy: 0.8009 - val_loss: 0.5757 - val_accuracy: 0.8073\n",
            "Epoch 7/10\n",
            "100/100 [==============================] - 1s 12ms/step - loss: 0.4813 - accuracy: 0.8330 - val_loss: 0.5260 - val_accuracy: 0.8281\n",
            "Epoch 8/10\n",
            "100/100 [==============================] - 1s 13ms/step - loss: 0.4304 - accuracy: 0.8484 - val_loss: 0.5010 - val_accuracy: 0.8359\n",
            "Epoch 9/10\n",
            "100/100 [==============================] - 1s 14ms/step - loss: 0.3858 - accuracy: 0.8652 - val_loss: 0.5177 - val_accuracy: 0.8398\n",
            "Epoch 10/10\n",
            "100/100 [==============================] - 1s 9ms/step - loss: 0.3634 - accuracy: 0.8725 - val_loss: 0.4404 - val_accuracy: 0.8438\n"
          ]
        }
      ],
      "source": [
        "EPOCHS = 10\n",
        "history = model.fit(\n",
        "    train_spectrogram_ds,\n",
        "    validation_data=val_spectrogram_ds,\n",
        "    epochs=EPOCHS,\n",
        "    callbacks=tf.keras.callbacks.EarlyStopping(verbose=1, patience=2),\n",
        ")"
      ]
    },
    {
      "cell_type": "markdown",
      "metadata": {
        "id": "gjpCDeQ4mUfS"
      },
      "source": [
        "Let's plot the training and validation loss curves to check how your model has improved during training:"
      ]
    },
    {
      "cell_type": "code",
      "execution_count": 16,
      "metadata": {
        "id": "nzhipg3Gu2AY",
        "outputId": "2d2f9404-5e67-483d-d478-506c63266ced",
        "colab": {
          "base_uri": "https://localhost:8080/",
          "height": 445
        }
      },
      "outputs": [
        {
          "output_type": "execute_result",
          "data": {
            "text/plain": [
              "Text(0, 0.5, 'Accuracy [%]')"
            ]
          },
          "metadata": {},
          "execution_count": 16
        },
        {
          "output_type": "display_data",
          "data": {
            "text/plain": [
              "<Figure size 1600x600 with 2 Axes>"
            ],
            "image/png": "[encoded data removed]"
          },
          "metadata": {}
        }
      ],
      "source": [
        "metrics = history.history\n",
        "plt.figure(figsize=(16,6))\n",
        "plt.subplot(1,2,1)\n",
        "plt.plot(history.epoch, metrics['loss'], metrics['val_loss'])\n",
        "plt.legend(['loss', 'val_loss'])\n",
        "plt.ylim([0, max(plt.ylim())])\n",
        "plt.xlabel('Epoch')\n",
        "plt.ylabel('Loss [CrossEntropy]')\n",
        "\n",
        "plt.subplot(1,2,2)\n",
        "plt.plot(history.epoch, 100*np.array(metrics['accuracy']), 100*np.array(metrics['val_accuracy']))\n",
        "plt.legend(['accuracy', 'val_accuracy'])\n",
        "plt.ylim([0, 100])\n",
        "plt.xlabel('Epoch')\n",
        "plt.ylabel('Accuracy [%]')"
      ]
    },
    {
      "cell_type": "markdown",
      "metadata": {
        "id": "5ZTt3kO3mfm4"
      },
      "source": [
        "## Evaluate the model performance\n",
        "\n",
        "Run the model on the test set and check the model's performance:"
      ]
    },
    {
      "cell_type": "code",
      "execution_count": 17,
      "metadata": {
        "id": "FapuRT_SsWGQ",
        "outputId": "f9c96a90-f8a5-46b5-fe45-2d793abdbb1b",
        "colab": {
          "base_uri": "https://localhost:8080/"
        }
      },
      "outputs": [
        {
          "output_type": "stream",
          "name": "stdout",
          "text": [
            "13/13 [==============================] - 1s 96ms/step - loss: 0.4568 - accuracy: 0.8365\n"
          ]
        },
        {
          "output_type": "execute_result",
          "data": {
            "text/plain": [
              "{'loss': 0.4568479359149933, 'accuracy': 0.8365384340286255}"
            ]
          },
          "metadata": {},
          "execution_count": 17
        }
      ],
      "source": [
        "model.evaluate(test_spectrogram_ds, return_dict=True)"
      ]
    },
    {
      "cell_type": "markdown",
      "metadata": {
        "id": "en9Znt1NOabH"
      },
      "source": [
        "### Display a confusion matrix\n",
        "\n",
        "Use a [confusion matrix](https://developers.google.com/machine-learning/glossary#confusion-matrix) to check how well the model did classifying each of the recordings in the test set:\n"
      ]
    },
    {
      "cell_type": "code",
      "execution_count": 18,
      "metadata": {
        "id": "5Y6vmWWQuuT1",
        "outputId": "454af6c3-a961-43a8-c5fa-91265f97f228",
        "colab": {
          "base_uri": "https://localhost:8080/"
        }
      },
      "outputs": [
        {
          "output_type": "stream",
          "name": "stdout",
          "text": [
            "13/13 [==============================] - 0s 3ms/step\n"
          ]
        }
      ],
      "source": [
        "y_pred = model.predict(test_spectrogram_ds)"
      ]
    },
    {
      "cell_type": "code",
      "execution_count": 19,
      "metadata": {
        "id": "d6F0il82u7lW"
      },
      "outputs": [],
      "source": [
        "y_pred = tf.argmax(y_pred, axis=1)"
      ]
    },
    {
      "cell_type": "code",
      "execution_count": 20,
      "metadata": {
        "id": "vHSNoBYLvX81"
      },
      "outputs": [],
      "source": [
        "y_true = tf.concat(list(test_spectrogram_ds.map(lambda s,lab: lab)), axis=0)"
      ]
    },
    {
      "cell_type": "code",
      "execution_count": 21,
      "metadata": {
        "id": "LvoSAOiXU3lL",
        "outputId": "e177f7c6-325f-45f6-fd77-3f2e3d03b1fc",
        "colab": {
          "base_uri": "https://localhost:8080/",
          "height": 696
        }
      },
      "outputs": [
        {
          "output_type": "display_data",
          "data": {
            "text/plain": [
              "<Figure size 1000x800 with 2 Axes>"
            ],
            "image/png": "[encoded data removed]"
          },
          "metadata": {}
        }
      ],
      "source": [
        "confusion_mtx = tf.math.confusion_matrix(y_true, y_pred)\n",
        "plt.figure(figsize=(10, 8))\n",
        "sns.heatmap(confusion_mtx,\n",
        "            xticklabels=label_names,\n",
        "            yticklabels=label_names,\n",
        "            annot=True, fmt='g')\n",
        "plt.xlabel('Prediction')\n",
        "plt.ylabel('Label')\n",
        "plt.show()"
      ]
    },
    {
      "cell_type": "markdown",
      "metadata": {
        "id": "mQGi_mzPcLvl"
      },
      "source": [
        "## Check trained model for sample audio\n",
        "\n",
        "Finally, verify the model's prediction output using an input audio file. How well does your model perform?"
      ]
    },
    {
      "cell_type": "code",
      "source": [
        "#provide link to your sample file\n",
        "# x = data_dir/'no/01bb6a2a_nohash_0.wav'\n",
        "# x = data_dir/'right/012c8314_nohash_1.wav'\n",
        "x = data_dir/'go/0137b3f4_nohash_2.wav'"
      ],
      "metadata": {
        "id": "x4MQiAAlw1kX"
      },
      "execution_count": 26,
      "outputs": []
    },
    {
      "cell_type": "code",
      "execution_count": 27,
      "metadata": {
        "id": "zRxauKMdhofU",
        "outputId": "edd7b46c-87d8-4da0-e821-37710353a1e1",
        "colab": {
          "base_uri": "https://localhost:8080/",
          "height": 487
        }
      },
      "outputs": [
        {
          "output_type": "display_data",
          "data": {
            "text/plain": [
              "<Figure size 640x480 with 1 Axes>"
            ],
            "image/png": "[encoded data removed]"
          },
          "metadata": {}
        },
        {
          "output_type": "display_data",
          "data": {
            "text/plain": [
              "<IPython.lib.display.Audio object>"
            ],
            "text/html": [
              "\n",
              "                <audio  controls=\"controls\" >\n",
              "                    <source src=\"data:audio/wav;base64,UklGRiR9AABXQVZFZm10IBAAAAABAAEAgD4AAAB9AAACABAAZGF0YQB9AAABAAEAAwACAAEAAgACAAIAAgACAAIAAwABAP//AAACAP////8AAAAA//8CAAIAAwACAAIAAwABAP//AAACAAIAAgACAAMAAQD//wIAAgD/////AQABAP7///8AAP7///8BAAEA///+//7//v/+//7//v/+//7/AAAAAP7//v////////////7///////////////7//v//////////////AAACAAIAAgABAAIAAAD+/////////////////wIAAgD//wIAAwAAAP//AgACAAAAAQADAAIAAgABAAIAAQAAAAIAAgACAAIAAQABAAIAAgABAAIAAgACAAIAAgACAAEAAgABAAIAAgABAAIAAgACAAEAAgACAAIAAgACAAIAAgACAAIAAgACAAEA/////wIA///+/wIAAwADAAIAAgACAAIAAgACAAIAAgACAAMAAwACAAMAAwADAAIAAgACAAAA/////wAA//8AAAEAAgADAAMAAgD//////////////v/+////AQACAP///v///////v////7//v/+//7////////////+//////////7////+/////////wEA/////wAA/v////////////7///////////////////8BAAIAAgACAAIAAgACAAIAAgACAAIAAgACAAIAAgACAAMAAgACAAIAAgACAAIAAgACAAIAAwADAAIAAwACAAIAAgACAAIAAAABAAIAAQACAAIAAgACAP/////////////9//3//f/9//7//f/9//3//v/+//3//f/9//v//f/9//3//f/9//v//v8AAAIAAQD9/wEAAgD9//3//f/+//7/////////AgACAP//AgACAP////8AAAIAAwACAAIAAgACAAIAAQABAAIAAgACAAIAAgACAAIAAgACAAEAAgACAAEAAgACAAIAAgACAAIAAgACAAEA//8BAP///v8AAP///v/+//////////////////7//v/+//7////+//7//v/+//////////////////////////////////////////////8BAP///v8CAAIA/////////////wEAAgD//wIAAgABAAIAAQABAAIAAgACAAIAAgACAAIAAgACAAIAAgACAAIAAgAAAAIAAgD//wIAAwACAAIA//////////////3////+//3//f/9//3//f/9//3//f/7//3//f/9/////f/7//3//f/9//3//f////3/////////AAD+/wIA///+//////////////8CAAIAAwACAAAAAgACAAIAAgACAAIAAgACAAIAAgACAAIAAgACAAIAAgACAAIAAgACAAIAAgACAAIAAgACAAIAAgACAAIAAgACAAIAAgABAAAA//////////////////////////////////////////////////////////////////////////////////8AAAEAAgACAAIAAgACAAIAAgACAAIAAgACAAIAAgACAAIAAgACAAIAAgACAAIAAgACAAIAAgACAAEAAgABAAEAAgACAAIAAgABAAIAAgABAAEAAgACAAIAAgD////////+///////9//3//f/+/////v////3//f////////////7//f/9//3//f/9//3//f/9//3//f/7//3/AgACAAIAAgACAAIAAgADAAIA//8CAP////8CAAAA////////////////AQACAAIAAgABAP////8CAAIAAQD/////////////////////////////AgACAP//AgACAAIAAgACAP///v8CAAIAAgACAAIAAgACAAIAAQACAAEAAgABAP//AgD///7/AAD///7///////////////7//v////7//v////7///////7///////7//v/+//3/AAD///7////+/wAA//8BAAIA//8BAAIAAwADAAIA//8CAAEA//8BAAAAAgACAAEAAAABAAIAAQACAAIAAgABAAIAAQAAAAEAAAABAAIAAgADAAIAAQACAAIAAAACAAIAAQACAAEAAgACAAAAAgACAAEAAwABAP7//v/////////+//7/+//7//3//f//////AQD+////AQD//wEAAgACAP7///8BAP//AwD/////AQD//wEAAgAAAAIAAQACAAEAAgACAP//AwACAP//AQD//wIAAgACAAIA//////////8DAAEA//8AAP7///////7/AgD/////AgAAAAAAAAABAAIAAwACAP//AQAAAAMAAwACAAMA//8AAAAAAQADAAIAAQD+////AAD//wAAAAD//wAA/v8CAAMA//8AAP///v/+////AAD////////+////////////AAACAP//AgACAP//AwACAP//AgABAAIAAAD//wEA//////7/AgACAP//AgD/////AQD+/wEAAQAAAAIA+//9/wEA/v8CAAIA/v/7//3/AQD+/wEAAwACAAMAAgACAAMAAwACAAIAAgD///7/AQADAAIA/v/9//3///8BAP7/AAACAAAAAQADAAEAAgABAP//AQAAAAEAAAABAAEAAAABAAAAAQACAAAAAQD/////AgAAAAEAAAD/////AAD/////AAD//wMAAwD+/wAAAQD//wAA//8BAP///v/+///////+////AQABAAEAAQD+/wEA/v/9/wAA//8BAP////8CAAIAAgACAAIAAgABAAEAAQABAAEA//8BAAEA//8CAAEAAgABAP//AQD//wEAAgD//wIA///+/////v////////////////////7////+///////+/////v///wAAAgACAP//AQD/////AQAAAAEA/v8BAAEA//8CAAIAAgABAP///v///////v///wIAAgACAAIAAgACAAIAAgACAAIAAQACAAIAAgADAAEA//////3///////v//////////v///wEAAAABAAAA/v/+//7//v////////////////8AAAMAAAABAAAA//8CAP//AgADAAIAAgD////////+//7//v/+//7///8BAP//AQACAAEAAgACAAIAAQD//wEAAwABAAIAAgACAAIAAgACAAIAAgD///////8BAAIAAgADAAMAAgACAAIAAgACAAIAAgADAAMAAwACAAIAAgACAAIAAgACAAIAAgACAAIAAgD//wAAAgD//wIA/////wIA//8CAAMAAQACAP///v////////////////////7///////7////////////+/////v/+/////////////v/9//3//f/9//3//f/9//7/+//9/////v/9//3//f/+//3//f/9//3////9/wEAAgACAAIA/f/7//7//////wAAAQACAAIAAgACAAMAAgAAAAIAAgADAAIA//8DAP////8CAP//////////AAAAAAAAAgADAAIAAgACAAMAAgACAAIAAgACAP///////wIAAgD//wIAAgACAP////8CAAEAAAD/////AQABAAIAAQABAAEAAAD+//7/AQABAP/////+////AwD/////AgACAAIA///+//7//v/+//3//v8BAAEAAAD//wIAAgD//wEA//8BAAAA/v8AAP//AQABAP//AwACAP//AAD//wIAAgACAAIAAQAAAAIAAgACAAIAAgABAP///v///wIA/////wEA//////7/AAD+//////////v//f/+//3/AgADAAEAAgACAAMAAQD9//v//f/9//3//f/7//3/+//9/wIA/v/7/wIAAgACAAEAAgADAAEAAgACAAEAAgACAAIAAgABAAEAAgACAAIAAgADAAMAAgACAAMAAgACAAIAAgADAAIAAgACAAAA//8BAAIAAQD///7///////////8CAAIAAAACAP///v8BAAIAAgABAAIAAgACAP//AQADAAIAAwACAAIAAAD+/wIAAgD//wIAAAD//wAA/////wAAAAACAAIA//8AAAIA/v///wIAAgACAAMAAgABAAIAAgACAP//AgADAP////////////8AAP////8BAAIAAgACAAIAAgACAAEAAwACAAMAAwACAAIAAAD//wAA//////////8CAAIAAQACAAMAAgACAAEAAQABAAEA///9//7//v/9//7//v/9//3//f////3/////////AgAAAAIAAwACAAIAAgACAAIAAAD/////AgD///3//f/+////////////AQABAAEAAgACAAIAAQACAAMAAgACAAIAAAABAP///v/////////////////+/////v/+////AAACAAIAAgADAAIAAgACAAIAAQACAAMAAgABAAEAAQABAAEAAQACAAEAAAAAAP///v///wAAAQACAAIAAgACAAIAAwACAAIAAwADAAIA////////AgD///7/AgD//////////////////wAA///+/wAAAAD//wEAAgACAAMAAQD+//7//v////////////7//v///////v////7//v////7///8BAP/////////////////////////////+//7////9//3//f/9//3//f/+//3//v/+///////////////+//v////+//3/AQD+//7//v/7//7//////wEA/////wIA//8BAAIA///+/wIA/////wEA///+//7//////wEAAgACAP//////////AgACAAIAAgACAAIAAgACAAIAAQACAAIAAgACAAIAAgACAAIAAgACAAIAAgD//////////wEAAgACAAIAAgACAAEA////////AQACAAIA//8AAAIAAgADAAIAAgADAAIAAgD////////+/////////////////////////////////////v8AAAIAAAACAAIAAgACAAIAAgADAAMAAgACAAIAAgACAAIAAgABAAIAAgACAAIAAgACAAIAAwACAAIAAgACAAIAAgACAAIAAQAAAAEAAgACAAIA/////wEAAgACAP///f/9//3//f/9//3//f/9//3//f/9//3//f/9//3//f/9//3//f/9//3///8BAAIAAgACAAIAAQACAAIAAgACAAIAAgACAAIAAgACAAIAAgACAAIAAgABAP////8AAAIAAwACAAIAAgABAAIAAAD//////////wAAAAD///////8AAAAAAAD//////v////7///8BAP///v8AAAEA//////7////+//7//v/9/////v//////////////AgD///7///////7//////////////////v/+//7//v/+////AQD///7/////////////////AQACAAIAAgACAAIAAwADAAIAAgACAAIAAgADAAEAAgACAAIAAgACAAIAAgACAAIAAQACAAEAAQACAAIAAQD///7//v8BAPv/+//9//3/AgABAAIAAgD//wIAAQABAP3//f8BAP7/AQABAP//AQD9//3//f/9//3//f/9//7//f///////v//////////////////////////////AgAAAP/////+/wIAAAD//////v///////v////7///8BAP//AgACAAEA/////wIAAQABAAIAAQACAAIAAQD///7///////////8BAP////////////8CAAIA/////wMAAgAAAP////8AAAIAAgACAAIAAwADAAIAAwACAAIAAwACAAMAAgACAAIAAwACAAIAAwACAAIAAgABAAIAAgACAAIAAgACAAIAAgACAAIAAQAAAP////8CAAIA///+//7////+/////v/+///////+/////v/+/wIA/////wIAAAABAP///v/9//3//f/9//3//f/9//3/+//9//3/+//9///////+//3//f/7/wAA///+/wIA/v///////v8BAP7///8AAAIAAgACAAIAAgAAAP7/AQD//wIAAgD//wIA/v/////////+/////////////////////////wIAAgD/////////////AQAAAAEAAwABAAIAAgACAAEAAgACAAIAAQABAAEA/v/+/wAAAQABAAEAAQABAAAA//8AAP3/AQABAP7/AQD//wIA/////wEA//8BAAAAAgD///7//////wIA//8CAP////8DAAEAAwD/////AgAAAAEAAAD///////////////////////8AAAAA/v///////////wAA/////wAA//8AAP//AgACAP//AgABAAIAAwACAP//AAACAAAAAQD//wIAAgD9/wIA/v8CAAIA//8CAAMAAQD+/wEA/f/+/wIA/v/9//3//f/9/wIAAgACAAIA/f/9//3//f/9//v/////////AgD//wIAAQD//wIA//8CAAAA//8CAP//AQD//wEAAgD///7/////////AgD///////8DAAIA//8CAAIAAgACAAIAAgACAAIAAgAAAAIAAwACAAMAAAACAAIA//////////8AAP//AgABAAAAAgAAAAAAAAABAAAA//8AAP//////////AAD////////////////////////+///////////////////////+/wAAAQAAAAEAAgD/////AgACAAIAAgACAAIAAgACAAIAAgABAAEAAgACAAIAAgACAAIAAgACAAIAAgABAAIAAgACAAEAAgACAAIAAgACAAIAAgACAAIAAgACAAIAAgACAAIAAgACAAIAAgACAAIAAgACAAIAAwACAAIAAgACAAEAAgABAAMAAQD+//7///8BAAAAAQAAAP7/////////////////////////////////////////////////////////AQD///7/////////////////////////////////////////////////AgACAAIAAgACAAEAAAACAAIAAgACAAIAAgACAAIAAgACAAIAAgACAP///////////////wIA//8AAAIA//8CAP////8AAP//AgAAAAIAAAD+//////8AAP7///8BAP//////////////////////////////////////////////////////////AQAAAAEAAgABAAMAAgAAAAEAAgACAAIA///9//v//f/9//7//f/9//v//v8BAP7/AQADAAIAAgACAAMAAgACAAIAAwACAAIAAgACAAIA/v/+/wIAAgAAAAEAAwADAAIAAgACAAIAAQD///7///////7///////7//////////////////v//////////////////////////////AAD/////AAAAAP//AAAAAP//AgD/////AgD/////////////AQD/////AgAAAAIAAwACAAEAAgACAAIAAgABAAEAAgABAAIA/v///wIA//8CAAIAAAACAAAAAgD//wEAAgD//wEA//8CAP//////////AQD/////AAD//////////////////////////////////////////////////////////wIA/////wIAAAACAP//////////AgD///3//f/9//v//f8CAAIAAgACAAIAAgACAAIAAgACAAIAAgACAAIAAgADAAIAAgACAAIAAgACAAIAAgACAAIAAgACAAIAAgACAAIAAgACAAEA/////////////////////////////////v///////////////////////////////////wAA/////////v////////////////////////////////8AAAEAAAACAAIAAgACAAIAAgACAAIAAgACAAIAAgACAAIAAgACAAIAAgACAAIAAgACAAIAAgABAAIAAgACAAIAAgACAAIAAgACAAIAAgABAAAA//////////////////////////8AAP/////////////////////+////AAD//////////wAA/////////////wIAAgD//////f/9/wIAAgACAP7//f8CAAIA/f/9//3//f/9//3//f/+//7//f/9//3//f/9//7/AQACAAIAAgACAAIAAgACAAIAAgACAAIAAgACAAIAAgACAAIAAgACAAIAAgACAAIAAwADAAMAAgACAAIAAgACAAMAAgACAAIAAgACAAIAAQACAAIAAgACAAIAAwACAAIAAgD/////AAACAAIA////////AAACAP////////////////////////////////////8AAAIAAgADAAMAAgACAAIAAgACAAIAAgABAAIAAgACAAIAAgABAAIAAgACAAIAAgACAAEAAgACAAIAAgACAAIAAgACAAIAAgACAAIAAgACAAIAAgAAAAMAAgD//wEA//////////////////////////////////8AAP////8CAP3/+/////7//f/9//3//v/+/////f/9/wEAAgACAAIAAgACAAIAAgACAAMAAgACAAIAAwACAAIA///+/wIAAwACAAAA//8AAAIAAgACAAIA/////wMAAgD//wEA//8CAAIAAgACAP///////wIAAgABAAAA/v8AAAEA//8CAP////8CAAIAAgAAAAEAAgACAAMAAQAAAAEAAgACAAAA//8AAAIAAgACAAIAAAABAAIAAgD//////////////v//////////////////////AgACAAIAAgACAAIAAgACAAIAAgACAAIAAgACAAIAAgACAAIAAgACAAIAAgACAAIAAgACAAIAAgACAP//AgACAAIAAgD//wIAAgD///////////////////////////////////////////////////7//f/9//3//f/9//3//f/9//3//f/9//3//f/9//3//f/9//3//f/9//3//f/9//3//f/9//3//f/9//3///////////////////8BAP///////////////////////wAAAgACAAIAAgACAAIAAgACAAIAAwACAAIAAgACAAIAAgACAAIAAgACAAIAAgACAAIAAgACAAIAAgACAAIAAgACAAIAAgACAAIAAgACAAIAAgACAAEA/////wIAAgACAAIAAgACAAIAAgACAAIAAgACAAIAAgACAAIAAgACAAIAAgD//////////////////////////////////wEA//////7///8CAP//AQD///7/////////////////////////AgD//////////////////////////////////////f/9//3//f/9//3//v//////////////AAACAAIAAgACAAIAAgACAAIAAgACAAIAAgACAAIAAgACAAIAAgACAAIAAgACAAIAAgACAAIAAgACAAIAAgACAAIAAgACAAIAAgACAAIAAgACAAIAAgACAAIAAgACAAIAAgD///////////////////////////////////////////////////////////////////////////////////////////////////////////////////////////////////////////////////////////////////////////////////////////////8BAAIAAgACAAIAAgACAAIAAgACAAIAAgACAAIAAgACAAIAAgACAAIAAgACAAIAAgACAAIAAgACAAIAAgACAAIAAgACAAIAAgACAAIAAgACAAIAAgACAAIAAgACAAIAAgACAAIAAgACAAIAAgD//////////wEAAgACAAIAAgACAAIAAgACAAIAAgACAAIAAgACAAIAAgACAAIAAgACAAIAAgACAAIAAgACAAIAAgACAAIAAgACAAIAAgACAAIAAgACAAIAAgACAAIAAgACAAIAAgACAAIAAgACAAIAAgACAAIAAgACAAIAAgACAAIAAgACAAIAAgACAAIAAgACAAIAAgACAAIAAgABAAEAAQABAAEAAQABAAEAAQABAAEAAQABAAEAAQABAAEAAQABAAEAAQABAAEAAQABAAEAAAAAAAEAAQABAAEAAQABAAEAAQABAAEAAQABAAEAAQABAAEAAQABAAEAAQABAAEAAQABAAEAAQABAP7//v/+//7//v/+//7//v/+//7//v/+//7//v/+//7//v/+//7//v/+//7//v/+//7//v/+//7//v/+//7//v/+//7//v/+//7//v/+//7//v/+//7//v/+//7//v/+/wEAAQABAAEAAQABAP7//v/+//7//v/+//7//v/+//7///8BAP//AQACAAEAAQABAAEAAQABAAEAAQABAAEAAQABAAEAAQABAAEAAQABAAEAAQABAAEAAQABAAEAAQABAAEAAAABAAEAAAABAAEAAQABAAAA/v/+//7//v/+//7//v/+//7//v/+//7//v/+//7//v/+//7//v/+//7//v/+//7//v/+//7//v/+//7//v/+//7//v/+//7//v/+//7//v/+//7//v/+//7//v////////////////////7//f/9//3//f/9//7//f/9//3//f/9//3//f/9//3//f/9//3/AgACAAIAAgACAAIAAgACAAIAAgACAAIAAgACAAIAAgACAAIAAgACAAIAAgACAAIAAgACAAIAAgACAAIAAgACAAIAAgACAAIAAgACAAIAAgACAAIAAgACAAIAAgACAAEAAQABAAEAAQABAAEAAQABAAEAAQABAAEAAQABAAEAAQABAAEAAQABAAAAAAD+/wEAAQD+//7//v/+//7//v/+//7//v/+//7//v/+//7//v/+//7//v/+//7//v/+//7//v/+//7//v//////AQAAAP////////////////////////////////////////////////////////7///8BAP//////////AQACAAIAAgACAAIAAgABAAIAAgACAAIAAgACAAIAAQD9//3/AgACAAIAAgACAAEA//////7//////////////wIAAgACAAIAAgACAAIAAgACAAIAAgACAAIAAgAAAP////////////////////////////8AAP//////////AQD///////////////////////8AAAEAAgABAAAA////////////////////////////////AwACAP//AgACAAIAAgACAAIAAgACAAIAAgACAAIAAwACAAEA//8AAAAA//8AAP//AQACAAIAAgACAAIAAgACAAIAAgADAAIAAgACAAIAAgACAAIAAAACAAMAAgACAAIAAgABAP////8AAAIAAwABAP///v//////AAD//wAA//////////8AAP/////////////+//////////7////+//3//f/+//3//f/9//3//f/9//7//f/9//3//f/9//3/+//9//v//f/9//3//f/9/////f/9/////f/7//7/AQAAAP7//v/+/////////////////wAA/////////////wAAAQACAAIAAgACAAIAAgABAAAAAQACAAIAAgABAAIAAgACAAIAAgACAAIAAgACAAIAAgACAAIAAgACAAIAAgACAAIAAgACAAIAAgADAAIAAgACAAMAAgACAAMAAgADAAMAAgADAAIAAwADAAIAAgACAAMAAgADAAMAAwACAAAAAgADAAIAAgD///////////////////////8BAAAA/v////7///8BAP///////////////////v/+//7///////7//v///wEA///+/////v///////v///////v////7//f/9//3//f/7//3//f/9//3//f/7//v///////7//v8CAAIAAAD/////AQACAAMAAgD//wIABgAFAAIAAwACAAMABQADAAUAAwACAAIAAgACAAMAAwACAAMAAgACAAEAAgACAAIAAgADAAIAAQACAAEA///+/////////////////wAA/////wAAAAD/////////////AAD///7///8AAAEAAgACAAIAAgACAAEA/////wIA///+//7////+//7/AAD/////AAD///7////+//3//v////7//v/+//7//f/+/////////wAAAAAAAAAAAAABAAEAAAAAAAAA//////7//v/+//7////+/////v/9////AAABAAEAAQACAP/////////////+/////v/+/////v////7//v/9//7/AgACAAEAAgADAAEA//////7/+//9/////v/7//r/+f/2//n/+//7//7/AAABAP7///8FAAIAAgACAAMABQABAP///v/6//r/+v/4//T/8P/r/+X/4P/Z/9X/zv/G/8X/v/+1/6z/o/+Z/4z/ev9s/2D/UP9J/0H/N/8y/yj/JP8f/xb/Fv8U/xT/Fv8f/yT/J/8y/zv/RP9S/2D/bP99/43/ov+2/8//5f/+/xsANQBPAGYAgQCaALcA0wDsAAgBIgE6AVQBcAGJAacBwQHaAfgBEgIvAk8CbAKJAqgCxQLfAvwCFgMqA0ADUANbA2YDZgNfA1kDUAM7Ax8D9gLJApYCXgIkAuIBngFQAfUAlAAtAMD/Sf/T/mD+5f1l/ej8avz6+5j7NPvY+ob6NPrt+a35cPlC+SD5DfkC+QD5EPkx+Vz5jfnJ+RL6ZPq5+hz7gfvo+1b8xfwt/ZP99P1I/p7+8P43/3n/wP8AAD4AfQCqANYABwExAVkBfgGjAcIB5wEHAhsCLgJBAlUCZAJ6ApMCtwLhAhUDVgOmAwQEbATeBGUF8wWDBiIHwwdmCAYJmwkkCpUK+wpMC3YLfwtsC0ML9gqRChoKgwnZCBkITQdyBo4FrgTIA+QCAAIcAUQAcP+a/tP9Gf1e/Kv7BPto+tz5Wfnc+G34FPjO9433WPc29yf3KPc/9173h/fJ9w34Wviz+A75avnK+S36jPre+if7d/vG+xr8cfzC/BP9ZP20/ff9Qf6Q/uT+PP+G/8j/DABJAH0ArADWAPkAEgEeARkBEAEBAeYAwQCWAGkAOgABAMn/lP9d/yz/Af/v/uT+3P7W/s7+w/6s/pv+kv6M/nr+af5Z/lL+RP43/jH+LP4w/iv+Nf5N/oL+1/49/8j/YQAJAcsBpQKNA3sEcQVuBmUHVwhFCSQK7QqWCxwMegzBDN4M0gywDFoM2wtTC6oK5gkZCSgIMQc2BjgFSgRjA4UCrQHPAAIASP+K/tj9LP17/M37N/ub+gz6kvkI+ZL4KfjF93H3M/cS9wj3D/ci90P3iPfn9zr4o/ge+ZX5Gvqr+j37yftT/Nf8X/3X/UX+s/4d/37/2f8uAHwAtwDxADUBYgF/AZ4BrQGpAbIBwAHAAbEBoQGRAXMBSgEZAd4AlQBSABAAwv91/yf/2f6K/jn+9/2+/YP9R/0c/ev8xfyt/Jr8jPyK/Ir8cvxa/Fr8YPxp/Hb8gPyB/H/8gPx7/HL8fPyQ/LL8+Pxb/eb9g/42/xIA/wD7AQgDOQR6BasG4gchCUMKSgs6DAcNtA1FDroO+g4DD+cOnw40DpQN4wwzDGMLegqCCY0ImAewBsYFzATjA/sCIAI/AVIAdP+S/qv91vwF/D/7g/rZ+Uv5vPgs+MH3YfcI98/2tva19rn24fYe91j3sfck+Iv46/hw+fr5jPoT+5f7Lfyn/Br9k/0B/m7+zv4u/4z/1f8iAG4ApQDPAPgAFgEzAUgBTgFOATwBMgEkAQcB5wDIAJkAVgAQAMj/fv82/+z+pP5Z/hb+2/2W/U39Gf3p/Lb8nPyU/JL8l/ye/K/8yfzp/AH9E/0v/T79Tf1c/Vj9Yf1q/Wj9aP17/Zj9t/3v/T/+p/4i/7//cwBAATkCOANBBGMFjga/B+gIAgoWCxcM6gy0DVoOuw71DgAP5A6oDkkOzQ0hDVsMhguaCqwJsQijB5kGkwWXBKEDnwKqAcMA1//w/gf+JP1M/HP7n/rM+RD5ZvjP9zL3mfYe9r31dvU79Rz1C/Ua9VL1jvXa9Tf2oPYW94z3BPiZ+Cn5vPlR+tb6aPvt+2n83/xV/cz9Ov6i/gj/cP+9/x8AfAC8ABABUgGLAb0B4QEEAgYCBAL/Ad4BvQGEAUgB/wCoAF0ADACz/1z/Gf/P/ov+Tv4R/tX9mv1l/Tn9H/0T/RH9FP0a/S/9Sv1W/WP9gf2V/a39yP3a/eT96P3k/eH94v3p/ev93f3d/eb9+v02/oX+7P6D/zYA/ADVAcYC2gPuBP0FLgdhCIYJjQptC0IM8gx7DeQNFA4nDgsOyQ2KDScNoQwGDE8LjQrKCfUIHwhIB2MGgAWXBLQD0QLmAf0ACAAX/zX+Uv1p/JT72Pol+nL5zvhL+L/3N/fZ9oP2NvYB9tz1xPWy9cL17fUY9l32ufYk95f3Evib+C75xvld+gD7oPs+/Nf8Zv3p/WD+2P5K/7P/FABrALsA+QAiATwBRAFVAWYBZwFbAUgBKgEDAeoAxQCPAE0AGQDq/6D/df9U/yn/B//i/sX+qP6Q/pH+jf6R/pT+iv55/nj+fv6C/pH+p/7P/uf+Af8e/zD/Uv9z/57/1P/6/w0AFQAgADUAPgBDAEUANQApACgANQBKAIEA0AAsAZ8BKwLhAqIDaAQwBfQFygawB4QIUAkWCrcKQguzC/sLJQwzDCcM+wu0C08L3QpWCsAJJQlzCLsH+wYyBnMFrwTYA/sCMgJqAZIAwv/9/i7+aP2t/Ab8YPu++j76ufk5+dj4iPg/+Pv32/e895/3nfej96P3svfG98n35/cG+Cj4YPiI+Mn4A/k9+Yr51vk++qf6CPtx++D7Sfy0/CH9ef3a/UH+kv7X/hX/Vv98/5//zv/d//P/CAAIAAAA8P/i/9P/rP9+/2X/O/8L//X+6f7Z/tP+0f7S/tb+2f7Z/uf+B/8n/1j/ef+X/8n/7/8RADcAUgBhAHUAiwCiAKwAswDFAMYAywDBAKwAlACCAH0AawBZAEEAMQAkACwAPABSAHEAnQDjADIBiwHnAVkC3AJfAwgEtgRMBeYFeQYGB4gH/wduCLII6AgOCSUJIQn7CMsIlAhLCP0HpAcrB7UGNgaoBQ4FWgS1AwQDRgKaAeMAPwCc//P+Wf67/SP9jPwS/Kf7Qvvg+oP6R/oN+uz5xfmW+Yz5iPl3+X75kPmV+av5vPni+fz5CPop+kH6Z/qY+sf6Afs9+3r7vfv3+038nvzc/CT9Yf2p/er9Lf6B/sX+/v4w/07/ef+j/8T/7/8GACIAQABTAGQAZgBhAGkAZwBuAHMAXQBWAFgATgBIAEYAPwA7ADsARgBWAGIAdQCGAKcA0wD4AB4BQAFVAX4BpQGzAdIB4wHxAQsCDAIVAhwCBwL1AfQB6gHSAckByQHBAawBnAGLAXkBeQF2AYEBlAGvAdMB9gEhAlkCjQLZAjMDewPUAy8EhQTNBCAFdAXCBRwGTQZvBpEGnAaiBo4GbwZfBjEG7gWdBTgFzwRkBOcDbAP6AnIC0wEvAZYACgB///H+af74/YD9Af2Z/DT81/uU+zD72vqz+or6YPo8+i76H/oN+gD6APoK+g/6Gvoi+iX6OfpV+mP6Z/p5+pT6ofrB+uP6CPtC+4v74/so/If8+fxg/cP9Jv6K/uL+Lf+I/9P/AQA+AHgAnwDOAPMA/wADAQkBHAEpATYBTwFmAWABSwE8ASkBDwH6AP0A9gDcAK4AfQA6AAMA4v+//67/if98/5X/kv+Q/6P/qv/V/wgAQwCHAJIArQCxAKcAtwDWAPUA8QD/AAgBDQEBAe4A6QDeAN4A5gAbATsBUwFrAU4BcwGoAd0BFQJeAtACQgOIAyQEmwQQBVEFqgXgBfIFfQYEBjEHXQZ4CHoKigrzC/wHege9AmH/B/2l+ff68fi1+/f6MPuA+h/3W/Y98lrykfFn8/31y/d2+4/8cv71/T395vzt+478+f3l/5QByQKOA2sD3gKpAfgA8QAsAIgB+QGcAlsD7QHFAWD/PP6Z/Vz9kP6W/jEARQC2ANj/lf7A/Yb8kPx5/If98/1J/4H/sv+i/6T+MP+i/sD+i//4/wsBbAH9AHUBoADPAJQAsQC0AesBaANVAqACOwFLABAAmf3z/rj++/+MAXUA6wG3AZkAsACs/Q/+kv6m/TgAAv/BAcUCdAKDBNkB4gJcAfT/SQBW/sT/FAClACYCgALfAvUBEAEAANb+Lv41/pf/SwDuADgCrQLhAjYCeAEbAUEAFgBgAFcBhwHjAf4BfQHqAX4BxgGXAVABTAKpAnAC6gEqAY0A3P90/6T/TwALAaUBDAJLAYsAEf9N/iv9Hvzc/NX8af7s/jD/m//G/hb+XPws++35HfqG+rH74f01/0gB4AGzAfkAz//I/oL9Ef21/Kf9Gv9qAHECPAJ2AR8ABv4k/az79vu7/Ib+1wAEAnwDewLXAQMA7f0Z/Vf86P3s/iQBYgJLA1EDiwFgAIf9uvwH/Jn8h/4IAPAC5AMkBBwDEAFp/8f9Cv3S/Ln9J/82ARcD8APcBC4EwQJhAcH/EP+f/l7/xAAQAh0DIgS2BBkE9QIEAVb/Wf54/on/UgGdAgUDygM3A3ICFgHX/8H/PP99/04AHwHgAfoBAwKLAWkAAwA7/27/z/8jAMkBFQKSAi0DgAIHAkAAZf7C/en8/P0W/6oA+QFmAsECJwHv/+n9M/xK+5b6UPse/a3+//9IADb/y/6O/f381fzY/LT9kf7g/88ALwE7AOL+TP3y+1v7S/sO/M38gv15/a/9+v0L/ib++v0N/0r/xf+lAPwAEwIyAf8AmQDB/2wALgDZAF4B1AJuBPMENARkAmsAb/3n+uj43viW+Yn7v/4iAfwCwwIlAXP/yPwd+3v7LfzB/k4BuAMtBqwGDgZHBNkBiP+U/sT+1P9AATEC6wOnBHIEoAOWATEADP5K/Sz++v6yAC8BrQENAhYBcQBO/5/+W/6H/hv/FgD/AaUCegMbA+0BcwFUAEAA6//z/7IAZwGtAk8D7QOKA7MCAwKVAGYAMgB3AC0BPQHOAesB0AHmALX/1/7v/ZT9dPzz/O79h/7Z/4n/1/86/+H9xf3F/H/8lPwy/dj+0//5AHoBFwEFAJD+yP0e/Yv9Hv7v/vH/rQBKAjQC/QEeAZ//M/+U/dL90/2w/Wv+vv6i/ywAfQB+AJAAxf8SAMH/gv9pAAwAvQCa/9v+u/4V/mX+b/2m/dL9ff6k//D/EAFWALgATgC//zgApf+BAEgAuACoATwCVwL9AQkCcwECAQ0A1P8fAFsADAHNAdQB9QHiAWIBCAFIAPH/2P+g/6f/ZwBFAXICPAOEA4ED6AJQAqoBWwH4AGwAEQBEACMBnQIhAwkD8QKDAuQCSgK7AZoB0gA9AWsB+wFnAnUBFwEwAJ//5P5Z/nz+Cv5//p3+Y/+I/9v+pf5b/dj8/Psr/I/8bvwH/YL8tPy0+wn7yPrJ+aP53PjD+Uz6ofvA/Nj8xf1S/A79Zfzu+1r8nfum/Q79Hf4w/i7+tv7v/N/9BPzc+0b7r/pR/CH7+/yP/BT9zP15/bf/xf5KAG4AEgFeAnEBZgPxAmgDEQSSA6MExgM7A1UDigL6AjAD6ALLA40DHgRuBJED3gO8AlUCxwEaAZIBsgFTAtUChQO6A1YE2gPMA64DXgJqAskBPgK8AgUD2QOxBCUFDwVkBSwE1gO5A/4CvgMPA1YDVQRBBOgE/QSzBPsDhwN3AjECAAIaAXEBXgCz/2D/iP4Y/jH9TvyU+7f62fkM+T34svfl9q32bfaG9s32KfY09ov1hfVE9Wb1AfYW9kr3+fdK+cb5X/qR+k/6VfoK+uv62PpP+9f7JfyM/LD8e/xC/Dj7D/qq+SP5vPkh+iv77ftI/GT9c/31/cX9c/1O/kn+hv/QANoBVANnBG0FjgYpB3AHygeZB64HiwdyB/0H8wj5CdoKsAuMC8cLsAslC1sLtwt3Dm0RyBR1GHca7hwFHdAc1RoeF60U2BAPDnALhgn+B/gEIQI1/mD6SvaD8d/tI+oo5xjl7uNW5BjmYuhT6izuk/GF9QH7JP9/BEoIkQqxDVIO4g4oDwUOlAytCnEIbwVeAp3+0Poo92vzFvFU7/vtQ+3E65bqFukQ6FHnTuaQ5VvlD+Z9523pruvu7afvhfGm8gv0p/XU9lT57vtD//UCAgb+CAQLgQt/CsoHIQQkANH79fem9PfxXPBY7qLs8esa6kbpW+eK5aXoJe2s9t4D7hItJvg1dUQwUE5XDl3cXRJcv1fRU0hQfUyzSVdFckHKODQrNRsRCB320eIQz7i+Q7L4qnOnw6fhqrOvjbTHt8e84sJlyanQW9jJ5OjyGwLIEl8icTAdOixB1kQIRF1AfToqM9QqACPDHJQVvA4ZCJAA9Pc67D7gHtb0yrbA5rl4tq62ArqTwKLHzc9B2UDh8ert9QEAvBPeIRksADuJQc1JXEreRy5EtDc8LQQk/hmwDocJZwKK94nxY+sV5WncoNO9zS7FmL6TvyfA88C1xdTLUNJt2hbi9+pv8XzzGPuWADoEnQqzD4QUaxYMGOQZ6xfhEKYKzwN/+Jbw9+md40TeINo82T3Za9+36C72rwkMFcklDjN4O+dJxk3nU/RSi1CqVClUslOKUntSxkhvP2Y0oSLMFNb+COnL1mnEyLois3WtVKwhrNitM7M6uWK+hchVzlrTsN+D6/j6EwsAGsMpPzYYQXdKlk9TTwxNTUb+PM02Dy5/JIEbHRAjBTf6ZO/H5CzX28mcvfmywawxqXioCaxPsiS688UN1LfgEO5L+dAC3w18FyYiqioAPFdLulAdW2VaA1vIUx5GTjjqHNoJsfe+5jrXC87cyDLA8r5avlPClcNew5DGAcZKyU3PVtY53djjn+7B+hMGMBA9Gq0eZBz8Gy0aOxZ7E6UPywtEBhgDrQIW/uX3WvHg5wTc+NIFzMrEnb9BvlfA5cW1ztjhjv07GS8xT0RmWklq0nj/f898+HaLbDZpa17iVf1RdUcXOawnGRvwC3f5beRdzJi1taO1mmqUaZGjlKCbhacZtqLHN9n15uvx2fssCFAUKiLrL7g5ZUKCS2RWPF0UXdlYCE7tPvQuZB5PDJX5Fumu2AfLfsOjvx+807W7suWxK7JBtsm5gL/HxpXQ4d0f7h4BRxOFI/UvJzt8RdhLnk2DS+dFuT+lOHIygjTlLhAoJiKXFH8Lufs/7Wja9MO5te6qKqZPpXquZrQEvcXMCtuN60j1WP10Aq4BiwXPCnwLTAxSDw4SHxalG4wgGiLXG0UT8wulANj3su935JfcNtie2UPdeuDn41rl/+Tr4yPmgOQS4zHkUeOo6ln0QQsaJBI2PUlOVFplOm7XcBtrYVoATiI9bS/fImkbpBVSCWIARfhl9D3szdzoy3m4RqzcpO6gB6GkpeuxDMIs19PumQWKF94hHyr9L580ojmxOTw4DDaFN+Y8cD4oPR04ty4BIoQSEAK38NzdZ8rfu9uyf7DxtMy4vL3txELORNnd4SLoIu4a8mr23f74CCgVsiGZK+s0Vz5dRaFJnEdvPnYymCSAFcYHK/t97oPm8t7G4U/qcusz8Svu0ewv63jl3+KD16nRR8700IHXReJj8Vr5gwZmER0a4R9YHwwfMBcMD9ULEAgSAwL/Vfyq+Zr4kPiq9/Py/+sw5j3eotcD1S3S0tBE0VfWed685lPvXPdy/Ur/uwLFBkkIPQ2MEcQesS6xOqZO31ffYvhpnGYiYgFRR0NJL7gZzwbx99vuluI63/XZd9hK2U/VH9P1zOrJK8i0xUPIOs8Z2SXk3vRfB1AZvCltNKI89j69PT86+zBiJ4cdohSFDboIagbCArH/s/q79W3uGOQW3FTQE8YVwJu8ib6jwkfLrNdg5Pby4QGmDb0VVhz/HgcgbCBwH8QfTx72ICEjCCYhKKgmRSVgHZMWgAqV/QvxyONv2mzSXdCHzsnRdtZH3HXj3OfF7lnxZvKO9Ff1M/eN+nr+gwPiCFcOBhW0GHobaR3WGvgW8hHtCqUEk/2z9+XzP+/+7UvtI+3o7HHrgOrN51PmvuNi4rbhVeE95oTql/EE+Xr++ARwCBMMGQ08DNIJ4QfcB2UPEhwAJB8vJzZoQx1PEFKoUW9F8juwLtAfmxBiA+35Se4X6RjlNuZw5gTjMOAL2Q7Wj9QY0dLO583+0WDZieQ6864BYA/7GOggYiftKscsUigIIewabxbjE10QmQv8B7QEQwAv/Sn4b/Ho6Tjggdhr0kPPfM+YzxzSMtnz47fvjfsCBsINBhRwF2oZ0BlOGCoVjhHDD7YOkQ6MDTQMMApACO8FQgNf/gr7MgD7/I3+vwAo/zIDFP5c/9/6rPO+8R7s+Odx5MDmlOST5XzqN+9f9lf5fgB/A1ADPgfYBlYDJwDE/Of3+/Lj8Hnwku/q7MjsIe5C7rrv9+1M7e7rxOso7ejrBewc7J3vxu+W8Vz30vsoAgoGZBVrJo8xOkJeSIdUwl9OYqlkg1hUURFGwTaVKHsZIA0/+yTwsOP13AbZMNA4y5XC6sHxw4jCrsRXxu7Mv9b54trxwABxEE4dRSr3M6s62j8aPbw3XTCqKE0iJhmNEFQIdP/J99rxPupw4hvcCdNBzGDHxMMaw+TBDsV9yy3THN/M61T2iABuCwQVwB3XJF0peyvNKpMqASw/K9woKSX0Hl8bnRd5EaAJfv+U9m/ttOXu3iXZvNNrz4rPkdLw2FjecOPe6PTtBvXD+14ACgMTBXgHUQryDVkQEhJ+ErgSlhPhEfAQVg0yBuX/wPhh9ODum+lv5mnjgOPf44Xm4uhH61ftZO6a8MTwH/Ox9LH0fPYr93X6Wv34ABEETQScBvoH+QrUDhsZkCPCKeMzrzg6RiBP+1D3UOdE0EDZN1wrFx2ODTgB/PJK6QHgVN3r2QnUW9HZzSnRRdPC0YPSf9Mg2RzhY+lm8nf8YAe2EFkc8yUnLfwwRC9bLcApJCakIB8W5wvYAqL71fWn8GLq4ONY313a+dYN1fvUN9R00gTW29sf4gTqoPFU+bYB3Qr3EysbrB49J+IpmykmLfAmICYgIJUZWRRxCEYEN/0Y9WXtXen15CXght/73OnfVOEH46Tm9eew7eLw1PHg88D1Dfid+Sb8XP2p/2wBoQJfBhMHtQiGCZEHkAeTBXADXQA5++72AvSu8ZHulexs6RXpu+hg53Powefs6D3p+Oi76izs6u378EbzN/jJ/iYLeR50LDg7VUbVVchmM20zb31lxV1mVLtEADOpH3kQKv1q7UXiWdvx1IvKK8QwvhS+E8CFvJq6qbvLwXjKDdV54w3yrwEWEaYhGDJ1PjlHJElYSG9FU0C1OTotFB9AEdsF8/wd9HLqL+G52hfV29DgzPbJgseDwmbBEsVwzArVWNxC5u7ybQLMEXYdAyeSMIU4UjzePtM9xDmZM9IrNSUjHG4TEQrC/1j28u3L54bgStor1dTR3dBG0enTktaa2njg4ebA7SX1GvxgAV0GrgpuDmwRPRLNEoARhBCCEAIOkAzACTYFAwL0/TX6XPXU7ozpY+TI4Lre9tvL2wXcrd2c4Yjk/+np7MDwLfUD+DD8Ov4xAhEEmgZUC/UPfB46Lc43SUMWTLJaymRDZ5ljWlbcTFhAri+NG/oIevrE6ejehtZF0zHRp8xUyh7JK86W0PLOeM0vztvTs9qh4yrtwfglBckR5yBSLT830jstO8s5/jTwLvMlkhgyC2r/U/fq8Dnr8eT03ibcKdt+2/DZH9cD1a3Sf9Qt2GzbEOHo5kTvh/kwB7gTwB5/KHotkja8N4Q4yzW0LM0nWhpCEhsKYgDi+Fnva+r95ePkTOLu36Led9yY3bTcfN6u4I/gzOOB5yjuNfS2+Cv+5gJJCJ8KUQwEDBUKawgOBfAD4gFd/wb9lPo4+qX62fkS9z30HPGl7yHt5ejr5tziJuLj4q7hfeXn53LqRO718T/36PskAEsCmAagCtAXnCjDML09LkXkUwdkc2hdawlh0VmYUf9BOzBQHAgLmPbk5zfbNNOJzqvFEcJvv7HCoch3x3HHp8iKzMLU9t1S58rwFf1cCgoabim6NTNAK0OMREdEG0DdOTgsahzeDWIBj/f/7C3icthv01LR4dCU0AnPQ8+9zZ7OKNPm1nba6d3K4uDsr/kiB2AUPx2YKKgzzjunQJg/8DuTMxUrziEjF88LF/9b9Frri+ad4wbgK92N26nbTNx83Szeot2w3cjfE+Nu50zsPfDI9N36RALqCOEMKw/YEH0RjBFwEOUM2Qi6BDUAmf2m+y746/Vv8W7ug+7w61PqcuWI4tLheODY4DrfvOCH4L/jtejL7ML09PliAXYKGxt7LPY4C0a+UA1fTGmYbo1s4GNmXYZRR0GNL8MeNQ04+XrqX9+l1jjOicREvvG6BbzMvJK6Yrt7vojE1Mwf1/HjRfBK/jsORh/ZLiw7wERGSaNLb0vdR/o/FDJXI3sVBwms/ODuEOKp2G3Te8+HzIzKccn8yKzITMvjzhXSItaC2r/gpurr964E3A81G+YmozKROxlBokI2PyA6pTN3KroeRxIwBvX55e8H6W3jvd3/2WLYzNYw1/DY6tjL2JPad93G4EXjpOZL6zrwyff3/jMEJwkADjMSyBSFFqwWYxSlEMIMEApXBvEBRf5d+Qn1KvPh8SPuNupB59/lk+QF5A3kC+Hu4FXh3ePD5lnpOe8I88b68gXzFhInYTQwQ59O6l+8a/xvIm6SZm9h2FQNRa8y8x4bDND4JeqN3SHUy8oTwS28l7pvvKm8mrkBulu9r8T5zIjV1t9Q6n/5ZwrcGxQrMTe2QfdHGU4AUJlM00RvNxcq0hweEAMC7PHe4zbaidQyz8vKR8ePxU/GGseeyI7KX83Q0UjVjNuU5trx+v2lCG0VlyThMG470T9/QmlDe0ArOzMxCyaNGKALZ/9R9WjteOQs3tjYXdej17DWFNa81HjVU9ek2djbl92I4ODk6OvM8yz75gHIBlANQxTtGDsc5BtKGskXSxQgERYMqwY8AH/5f/TA8KHt3ehM5ZviM+E04vngT+F44B3gauLs4o/nJOpi7rD1Rf6rD/cdeCwrO9hIpVv6Z+NuVG5haX5lC1vRS1g4jCU5EsT+4O5+34bW98yzwzC/tLwAwPi/6b0evizAmMWSykvRmthh4t3uXvylDb4chSo8Nis/rEjsTVVOK0ldQKk1rin9HaUP5gBV8qHmHOE02wfWF9IazzXPRM+Tz0fPNc9Wz5fRMdaY3D/mUe1e91AEqBH7H14pqTJxOQI9Ez+UPXI4kS+lJhgbFhAjBlv7XfLK6CHjfeAn3ZfbMtpG2ZTZvNqd2+Lbq9x63U7gx+Ot50LtcPFT957+egW7DG8RTRT5FQgX+hZ9FTsR5gr/BbH/Q/sV9wzxr+1C6t7of+gC6KnnCue55pjlHeeY58PnKOnH6pvwKPx8CpQX2iX9M8pGMVqUZoVuIW67bRlrMWDgUNg9GCr+FdkCePBY4sLWl8pmwjK9Qr0Fv8u8CLs5vDrAdsXqyCvMiNLd28rmyPOWASgPzh2ZKgA3OUMAS1pOPkxWR3NBrziFLHYdLw3s/qb0quqb4EHYy9Gtzj7NO8xDzLDMhM30zuLQe9Ww26fgNOYh7oP4+wN7DlMXGiByKZMxAzfoOO83/DSzLy0oQB/3FEwKYv/m9HHsduWD36bawtaE1FnUrtRt1BbVW9YR2eDcMuC45KTpSe/M9fb7wAL2CUUPexMjF9YZpxu0GjAXpBL5DQcJUQMm/FH1ffBe7BzpK+ZL5DDjyeLB4mbiMeQB5hHoNuwi86T+Igx4GKclbDUmRw1YFmO5aMRroW0xa+9hYlO0Qssx0x63C2H5DOk42wjOEsRPvt67ebkztpO0dbb7ukO+zMDFw4vJONOn3T3oJvQxAZQPKx4hLIU5q0S+S/FO8U8cTg1Jlj/eMacjGBbPCRP9yu6y4qfZx9Orz+vMtsofyeDJWMu7znnSTtbi2Snd6ONB7JD0o/uyAuYKTBROHowl1ipBLoowvTEFMMYrTSWmHNYSVwkCANP2Nu145OHd4Nl4103VvdN206/V3NiL3ODfluNL6B7tYfJ/9/f8RgEbBbMIhQyMEJISTxNoEnkRfhD8DfoJsAS9/6f6mvVZ8dHsXOlT5uLjZuP74l3kr+WX6Ynx+/ttCSUULiGJL8Y/AFCnWARfQGEHZHNjNVzJUWNDqjYWJz8XmQca+KHrnN290vXKuMWYwaW7Bri1ty66trzZvU7AdcVczoPYKOJj7T35LAc4FR0iSi8uOqJCN0cTSvhKjkiAQrc3LSxiIKQVngnN+9nvseY14cfbCdfh0uDQpdE30hzT8dJd1IzWz9gk3M/f3+SH6cPvfPdkAFYKVRJaGeEfkiYELKQtBCxPKMkjuR2fFUMMBgKf+CjwqOjT4uzdqNpI2LbXRtld2+rd+t/p4obmU+ql7RbwCvMO9rT50Px4//8CEgbZCD0LewxEDfEMAAxDChsHrwMa/7P6rfXF8RnvBOzm6gnqu+0w9cr+SwmOEqUfHS5xPZdIrk6AU/pV/1cnVBZMrEHgNXsqxBwkEBMEwPgH7uLjI92I2OvU08/sydbGacZ6xsXEu8KVwxnHwsz70jvaKeQ273/79Ad+FcIiWi2/NY47cUExRKJCRj0KNbwtTiW+GyIQoAV9/VT2BPHj6nfnuOTH4UPfCtzc2vrY8tY31PDSY9Qi1oHZeNz94UzqWfMs/QsGww8QGYwg9SXLKM0pVCi9JB8fJxguEQwJiACW+FLxaOzr52PkOOJF4TPi4eIs5ArlZOYo6HnpCOuO6+fsFO7h75by8vQV+KH6yv0pASoEwgZXB9cHWwcsBscEBwFh/Vr5HfYs9InzqPdy/OoEWQ22F24miTMiQgpKtFD4VSpY6FgwUYVI3ztJMCEk4BSZCJz6e/DD5p7ejdpl1hTUVtBCzm/Ots6/zrjLb8q2y3POuNKJ1Qfbf+KX6xT3cAFsDWAYoSJILJgzrzoaPfA8szkRNOUuoCYTHo8T7wnKAg37I/ZY8EfsIem55Y7kO+Gf33XcU9lE127UuNRf0ybUjtak2v7hN+mW8tn77QVUEDQZLSFRJh8qfytwKtonnCJRHBMUpAvjA/L7LPX47mPqZed65WXksOOz4/fjl+Tl5KnkyOTC5CPlO+aI52bpiutq7uTxD/b6+Vj+EALqBKcH+Qj1CWAJDwhDBt0DRgKkAIwClwXaCgQSoBi7IxUusTkxQ1ZJl0/aUXlTiE9CSZdAAjUmKsYbIg/vAV/1DeuE4NrZUNR90K/NXssdzO7MAM930BvRn9OT1fPYTNwH39rj2+iS7yn32P6wBycQShl/IQUpGy8dMhk0HjMSMcYt4iauH+wW+g5FCHEAFvr78i3u9uly5lTkaeAL3wbcjdqS2cjXjdjm14vZr9uu3z/lB+vB8r750QJ7CzcTfBoMH1wjeCXyJCkjBx/eGQEU+wwGBmz/iPmP9Dfwlezx6XPo/OYR5jjlMeS5473i8eFT4Vjh/+HW4iDkDuY66dLsn/Bn9Br4Ifyu/ygCqwNGBfsFDAdhB60I2wwhEaEY+B7pJh8xkDoIRZZLb1GlVAxWSlWhTzBI9TzbMWAluBfmCjH9ufHv5mHe7tdr0gbPe8ugyjjLY8xuzq3Oc9D00vfV9dl63ILgHeWS6o3x1Pek/9cGmA6NFsgdtSVxKmwuqC9aMJww2Cw5KcYhgBtSFZQNkwbL/Df2Q+9X6TTkDt6g2mnWDtV105HSl9Op02nWWNlW3hvkjOks8Ln27v54BpkNwRNZGJQd0yCGIsIiiyDyHTka0RVnEEsKfQQu/g75wvOb7wTs/+em5SjjQeI94e7fZt/Y3u/fI+F24nLjMOXw55Hqze0y8CLzAPbC+Jv7mP0aAOABAARgBrwKrxCtFkAeXCXOLhw5fEIQS2NQDVW5VydYxFVWT+tGGDzAMCskaxYaCX/7hu8N5W3cy9UD0KrLvMgLyNLI+slGy0/MmM7d0VTV1tjb27bfs+Sa6n3xkvj//6AHjA/0F8gf6yZ2LCswdDO7NLY0HTI8LQQoEyGJGiYSbwnFADL4LvEa6RfjvNyu117U7ND8z+POL8/8z7zRmNXL2VrfkOT36mby4fkOAq4I8w6/FK8Zsh3bH9AgFiCkHl4crxieFIoPiQqXBTwAufvb9lHyFu436jDnIOSW4b7exNzL23HbN9x33KXdzt+r4mPmvelb7Qjx0fR9+Mj7Hf9QApkFDAm6DacTHRojIcsojDHXOtVDb0uUUXZWMFlBWZFWNFEwScc+czIaJW4XNwna+nHtn+FG2L/QKMq3xWHDxsJZw4PEicYdyXLMGdAS1IvYFN1K4k7n1uw489z5BgHZB/wO+BUkHdwjPCkCLvowhzP4M48yEjBMKwEmrh4FF5kOqAVA/QD0LuyB5E7e5tj200/RLM8Jz53PN9EJ1FzXONwB4Zjmd+ym8i75/v4QBZ0KlA8WFLYXrhrcHPId1h3QHCQboxhCFRsRXwyeBzcCpvwx97jxy+w76P/jO+Bx3ZbbYdqz2ZXZiNrp27/dYuBn47vmBeqG7f/wnPRQ+L77ef/+A6kJ7g8HFy0f+SesMfc74EVUTodVOlvKXttfqF2FWEtR7kcFPGYuDSCjEW0DXvVY6FndmNQfzQrHCMMjwSfByMEEwxTFNcg+zDDQW9TF2Ave3uN56ePvn/Yp/loGWg66FhUfzScML+U0CzpLPYI/DD8+PFo34jBeKTEfJxRFCGj87PC15SDcctP5zGjIi8WyxHbFUcj3y5nQSdZY3LbiEOl074f10vspAlcH6wv9D7wTEReSGYAbPxyKHDkc9hqvGCoVSxE0DJQGzQBb+if06u1Q6FPjJt/5203ZpNcs1xnYoNmP27neO+JV5u7qUe+J82n3sPtD/yYC0gR6BwcL8g72E5cZfSAdKZAyeDxiRUxO4lVvW6teXF4RWz5UX0tsP6EwbSAZDzD+Pu3G3RPQpcRLvF+2iLODsyq2Wbp/v0PG6c3z1aPdxOTf69Tyx/nn/0EFuwp5EHUWzRv/IBUmDSuDL6kyhzR+NIQzqjB4K3gk3xttElIH7vtY8Bvl/trn0djKTcWqwmPCjMPLxu/LzNJO2mvijep28mn6vQH+B/YMTBElFekXtxnGGh4bAxtoGhEZIxcJFYESMg8nC3MGgQEY/EX2WfBn6hflreDx3PXZTNjw14vYJdp33JXfWeOQ5xbsu/Bl9Qz60v7mAowGbAqeDcYP5xFBE+UT8RTJFdEVNBYGGEUaxxyXH5kiCyYJKvotYTBmMZIx0zBrLlEqlSQ/HYYVgg0jBaj83PQP7hLouOMU4dPfO9+t30Hhg+Or5uTpW+x17gDxXvPg9Ef2efdT+AT6Zvxz/r0AswTsCLYMkBGiFd0YxxtIHQwdURu5GOUTsA2wBhr/N/fl7tvnYuE43D/Zu9dV11jYgdtV39Dj5egC7tDyafft+/z+QgGpA4kFkwaDB3QI3gitCREL5wtXDEQN5Q3RDVwNVgw+CoMHoAT5AID84veO8/3uyupb54bkd+Jl4ZnhXOL/48jmUOoJ7jvy+PYK+8n+hQJlBVEH/wgRCnkK0AodC7ILyAzNDrYRaRUWGqwf3yXeK9ExMzcyO9Y9Zz6jPK84BjNkKx0i3hfHDAwC6PfF7s3mAeBk29nYAdiI2Ena59xg4LTkpejg6/7u8fE19CH29Pc7+Zv6nPwD/4YB8QQaCQYNbRFKFpEa7h2jIKshwiDkHmMbtxWkDsAGSv6V9WrtZ+Uf3svYmNUE1HzTvtTM1yDciOFY59nsSPIl+Fr9UgHCBKQHqAkfCx0MLwzUC6cLCAsRChQJCwjTBmUFBAQ0Avr/i/2v+n33Z/SC8T7u7eoQ6LblFOQO41DiJOJt4+3l+uiB7HrwFPUz+n3/LgQzCNILAg9YEZoSTBNQE74SPBLOEXAR1RFzE70VnhiMHB8hqCUsKnMufDEJM1Ez2jELLoIoKyIRGqQQbgdw/sP1Xe6B6D7jxd/g3hXf+t8A4u3k7+dA64zu+fDw8hf1D/fW96/4NPpy+9P8V/8MAmoEtQj9DMoP1BLOFdwWdBb+FUMT5Q6FCucELf7F90zyVOzA5uPiZOD73p7eT98s4GTiAeZc6SHsO+/68lz2x/m6/K7+3ABnAxUFuAWcBnoHswf0B7cHnwaoBRQFsANcAWH/Zf3j+ln4B/aP8zbxb+9q7SbrvOkZ6YPoXOgE6V/qhuxP74Dy+/XC+Sf+WQL2BTYJDQxtDr8PTxBAENkPTA9MDpQNzgyVDCMNcw7ZEGoUNxnzHbYjhCmyLR8waDDALqsqUyXgHTQVpgx/A7r6BPOO7Rbpo+Ud5KXkMOcg6jbtge9D8g72zPib+WL55/mm+nz7w/t7+9z7zf2EABAChAN0BasHuQkJCz0LqQptCmMJFgdjBKUBpf5N++X3ivS88X7vGe2A6uLoH+iV5zbnRedx6NvqKe5s8Zn0UPiT/JoAswMeBgIIlQnxCn8L2gqsCXUIFgdsBYMDegG7/5/+nP1Q/L76Xvkb+LD2UfXH817yXfGq8Avwte/s73rwkfFD8171wfdw+mH9WABVA0cG2wj5Cs4MQA4bD5sP1w+HD/4Omg4TDl8Nmwz/C7MLzwuJDDANLw7SD3sRKhNvFH0VDBY2FhUWDxWiE9URlQ/0DFUKugcLBcYC1gBK/x7+Pv2B/N/7mPtt+w37wvqX+nD6Y/qO+s/69/oi+037Xftp+3X7QvsE+wT7Ivsw+zz7c/uS+6X75fsO/P/71Ptf+6/63fmx+GH3+/Wq9MPz+vJ28m7yr/JN83r0zfUH95D4Fvpj+8T8zf13/gj/c/+y/5r/T//n/nP+Jv7c/WP95fzO/Nb8y/zW/Mv8tPzo/BH97fzD/JL8Pvzo+6r7TfsD+xL7Xfvg+5P8nv35/nQAIALZA40FLgfPCDMKOAsdDMsMIw1ODVwNKg3WDJcMVQwJDO4L8AscDHsM5wyPDVEO/g6gDxoQUxCEEGAQdA9gDjoNsgsRCkAIPwZ/BBMDvQF+AET/RP63/SP9mvxq/FX8YPzQ/Ab9xfzF/Ln8Pfyz+zD7TPpr+dP4+Pca96T2ZvYT9uj1FfZB9n325vYS9/32Ivcu9+r2dPb79Zn1XPVQ9SL1IfWo9XX2TvdT+G/5lvoH/GX9Yv4p/9X/SgBiADsAyP///jv+mf29/Nz7MPub+kb6T/qg+uP6cvtQ/A/94v2+/lL/rP8LAF4AlQCzALEAsgDxAGsB0wE3ArICOwMEBNEEbQX4BY4GMgesB+wHBgj9B+8H4AeoB00H+wa+BpEGXAYtBicGYQbTBk8H/Qe/CHkJUAoIC3cL2AsYDAMMwwtuC+kKOAqGCc8IGgiBB9wGOga7BTsFpQQBBEgDcAKDAYMAlf+d/oz9nfzE+w/7fPr7+Y75Ofn++NL4t/ic+Hn4Svgz+Bf47PfK9633pfe/9+/3H/hd+Kn48fhK+a/5G/qJ+vb6aPvV+0b8rPzv/Br9NP07/T79KP3Y/ID8Pfzz+5j7Ovvx+s/62voJ+1n7wvtH/P78zv1//hf/jP/j/wwA9f/J/2z/Gf/W/pX+f/6Q/sX+Fv+D/wMAmwAlAYsB8QFYApUCqAKyArcCuwLJAs4CyQLmAiADWAOEA7MD1AMEBGMEqgTeBBIFTgWQBdkFEAYXBiYGNgYtBgcG0QWeBVsFHQXaBI4EXwQ1BBYEBAT8AxYENQRIBGoEfQRyBGQENQTbA40DSAPfAmEC3gFmAf4AlwA+AOL/b/8Q/9b+i/4j/sz9ef0Z/cD8c/wX/Mf7kPtS+xj79frr+u769foL+zD7ZPuz+xT8c/zN/Cb9c/3E/Sb+V/5d/nD+Rv71/an9Q/3R/Gn8C/y9+437d/t9+4X7ifum+9D78/so/Gn8lfzC/PP8GP0y/UP9Vf1d/Wn9h/2y/dv9Gv5r/q3+Av9w/93/SgCqAP0ASgGZAdUB6gHxAfgB+AH1AfYB6gHzARACHwJCAmIChAK7AvECHQNFA2MDeQOtA94D8AP6A/MD3QPAA5gDeQNfA0MDQQNPA04DYwN6A3YDjQO3A8MDvgO9A64DjgNfAx0DzgKAAjwCAwLaAagBagE9AREB4QC2AIsAYAAfAOb/vP+L/3D/XP89/xv/D//+/uT+2P67/qT+mP6U/of+b/5w/nn+hf6D/n7+kP6k/qn+i/5n/lT+MP4M/u390f2n/ZP9lf1+/W/9gf2a/az9x/3c/d/94v3o/en9yv2U/W39O/0T/Qz97fzJ/M787vwV/Uj9fv3E/RT+Yv7B/hT/W/+e/9j/DwBIAH4ApwDAANcABwE1AUkBcwGeAbYBvQHKAdgB0gHBAbsBswGLAWcBWAE7ARUB8QDSALwArQCnAJ4AnQC3AOIADQE8AXkBwQETAl0CmALfAhsDTwNtA3IDcANxA2gDSgMhA/QCvgJyAhsC0gGEAS0BzgBqAAsAsf9Y/wL/vP5//lz+U/5T/nL+mv7J/gv/YP+q/+r/JwBXAHkAgQCZALMAoAB/AGAAMAAAAN7/vf+P/1b/IP/p/rX+jP5v/jz+B/78/e391f3S/dj92v3h/fD99/0L/ij+K/4p/jH+N/45/j7+Qf5D/mf+g/6I/qP+yP7z/g//LP9b/4n/t//Z/+f/9P8QABQADAANAP7/5f/B/5T/bP9W/zf/Ff8B//j+9/4D/x3/Ov9g/3r/p//Q/+v/AgASACQAMAAzADUARQBRAF0AegCeALwA2AACASoBTQFcAWoBfwGQAZoBpQGfAYYBdgFgAUsBPwEpARkB/gDQAKgAjABrAFIAPAAsAB0ABgD5/+v/4f/j/+f/7P/0//X/9v/7/wUAHgAxADsASABRAFsAZwB8AIcAgQB/AHgAbgBgAEMAKAAQAPj/3f/N/7v/p/+S/4L/fv98/33/fP9+/3n/Y/9O/zL/Ev/s/sb+s/6r/qX+ov6x/tT++v4V/0r/lP/K/wgASACEALsA5wAUAS8BQQFLAUEBMgEsARoBAQH2AOwA3ADTAMYAsACaAH8AYABJADMAGQADAOP/uv+R/3r/cP9m/2v/dP+I/5//uv/n/xEAPgBpAJoAygDrAA0BLAE7ATcBNwExARsB/wDiALwAgwBbADEAAgDV/5//Zf8y/wv/8/7g/tL+z/7Y/ub+7v4U/zj/RP9c/3j/if+R/57/uP/L/9D/2P/j//D/9v8FABgAIABDAGIAbAB3AGkAWABBACcAEgD7/9X/r/+p/5v/hv9+/27/af9l/2P/c/92/3z/gf+J/4b/i/+g/6T/o/+q/6r/ov+l/7X/yv/Q/+P/AwAIABkANwBUAGQAcACIAJYAqQC8AM8A3ADlAO8A9gD5APkA+gDsAOYA1gC/ALUAoACRAIMAWAA3ACAA+f/d/8L/o/+J/3T/a/9n/17/Zf+D/57/t//c////IgBPAIEApADBAMoAygDWANYAzQC7AJoAeABKABUA3v+s/2//J//4/sv+o/56/mL+Yv5n/nn+m/7L/gj/SP9+/7v/+/81AGQAigCpAK0AsgCsAKIAlQB3AGAANwAgAAoA6P/d/8r/sf+n/67/tf+//8r/yv/N/8n/xP/B/7r/r/+n/4//fP9n/0j/MP8g/x3/Hf8p/0b/Zv+L/6P/v//Z/+7/DwAuAEAAVwBhAGEAXQBUAFMAWwBiAGkAawBsAHAAgQCZAK0AuwDNAOAA4gDhAN0AvwCkAJAAbwBBAB8AEQD+/+v/4f/g/9f/1P/d//P/AwAWADIARABdAHAAfACGAI0AmwCfAJkAmQCVAH8AbwBrAF0ATwBGADIAGwD9/9f/s/+S/3b/YP9F/x//BP/4/uf+3f7i/un++P4D/xr/QP9d/3j/kv+x/8r/4f/x/woAKQBFAFwAawB5AIcAkACWAJ4AmgCPAIMAeQBzAFsANwAiAA0AAgD//+j/0P/B/7f/sf+j/5z/o/+j/6n/t//B/8j/1f/x/wEABwAMAB0AMABDAE8ATgBWAF4AZABdAFkAYABbAGQAZwBhAGQAWABXAFcAUQBGAC0AIAAaABUAEgAKAAUA/f/x/+7/5//o/+f/2//d/9v/2P/Y/9f/3f/h/+H/5f/z//j/+P8HABAAEgAdACIAIwAoADMAPgA7ADYAOAA4ACwALAAtACAAFQAPAPr/6v/c/87/yf/F/8r/xf/A/7j/rv+u/7P/tv+3/7b/sv+v/6//qv+s/7X/u//F/9X/4v/j/+X/7//4/wMAGAAiABsAJAAnABoADAABAP//+P/m/97/1P+9/7z/u/+3/7L/rP+x/7L/t/+3/73/yP/L/9L/2f/X/9v/7P/5/wIABwAPABoAGAAZAB8AJAA3AD8AQwBSAFsAXgBdAGAAVABBADsAMwAuACIAFQAKAP7/AQAAAAIABQAGABAACwADAAIABQAHAAAA///7/+z/5v/c/9n/0//J/8j/wP+9/8X/z//O/9j/5v/z//7/BgAUACUALAAiACUAJQAlACIAEgAHAP7/+//w/+f/4f/b/9T/0P/U/8L/t//C/8n/yP/K/8v/1P/i/+r/7P/u//T/+v/7//3/AwAWACkANwBBAEkATwBWAFgAWQBUAEsARQBAADMALgAlABIABgD///7/9v/o/+D/2//U/97/5f/Y/9P/0//b/9j/2P/j/+P/4//j/+H/3v/j//H/9f8BABEAGgArADIAMAA6AEgASgBRAFEATQBKAEkAPgAuAC4AHwAQAAcA/v/9//T/8f/v/+D/2f/b/9z/3P/h/+f/6//v//j//f/2//j/+f/9/wUABwAPABYAGgAaABsAHgAWABUAGwASAAsACwAFAAIAAgACAAEA/f/9/wAAAAD+//r/+v/2//b/9f/s/+z/7v/s/+z/7P/n/+X/6P/o/+b/7//2//X///8FAAMAAwAKABAADAAWABsAFgAYAA0ABQADAAMAAQD6//j/+P/z//T/+P/4//X/7//u/+7/6//u/+z/7//1//D/8P/1//b/9v/4//j/+f/6//r/+f/2//3////6/wAABgAIAAcABQAGAAcABQAHAAMAAgAGAAcABgADAAAA/v/9///////2//b/+P/4//r//f/9//3//v/9/wAABQALAAoACwAMAAUABQAHAAMABgAGAAYACAAGAAYABgAGAAUAAwACAAIABQADAP//+//7//v/+f/4//j/9v/4//b/9v/2//n/8//2//7/+f/5//3/AAAAAAEAAgABAAIAAgABAP//AQADAAMAAgACAAUABQAHAAcABwAIAAYABgAKAAMAAQACAAAAAQD///7/AAD///7//v/+//3//f///wAA/f/7//7///8CAP7//v8CAAMAAwACAP///f///wAAAAACAAMAAgACAAMAAwACAAIAAgACAAEAAQABAAEAAQD////////+/////v/////////+/////v///wEA/v///wIAAgACAAIAAQAAAAIAAwD/////AQACAP////8CAP////8BAP///////wEA//8BAAEA/v///wIAAgD//wIAAgABAAIAAgACAAIAAwACAAIAAgACAAIAAgADAAIA+//7//v/+//+//3/+v/6//v/+//7//3/+//7//3//f/7//3/AgACAP//////////AAACAAIAAgACAAMAAAABAAUAAgAAAP////8AAP////////////8AAAAA//8AAAIAAwACAAMAAwACAAIAAwADAAIAAgACAAIAAgACAAIAAgABAAIAAgACAAEAAgACAAIAAQD///7//////////////////////wAA//////////8CAAUAAwACAAMAAwADAAMAAgACAAAA//8CAAIAAgADAAIAAAAAAAAAAAD//wAA///////////////////+//7//v/+//7////+//7//v///////////////v///wEA/////////////////////wAA/////////v/9//v/+//7//r/+//6//v//v/7//r/+//7//v/+//7//3/+//7//3/+//7//3//f/9//v//f8CAAMAAgAAAP//////////////////////////AQACAAIAAgABAP///v////////////7///////7///8CAAIAAgACAAIAAgACAAIAAgAFAAIAAQACAAIAAgADAAIAAQACAAIAAgACAAIAAgACAAIAAgACAAIAAQD///7////+//7/////////////////AAAAAP///////wEAAgABAP7//v/+//7///8BAAIA///+//7///8BAAIAAQD+//7//v////////8CAP////8DAAIAAAD///////8BAAIAAQD/////////////AQACAAMAAgACAAMAAgACAAIAAgACAAIAAgACAAIAAgD///7/AQACAAEAAgACAP3/+//7/wIAAgACAAIA/f/7//v//////wIAAQD7///////+////AQACAAMAAgD6////AQD///7/////////////////AAABAAIAAgACAP////8BAAIAAgABAAIA/////wAAAgACAAIAAQD///////////7///8BAP7//v//////AgACAAIAAQD//////////////v////////////////8AAAEAAgABAAAAAgACAAIAAwACAAIAAwACAAIAAgADAAIAAAD//wAA/////wIAAgADAAMAAwACAAIAAgACAAMAAgAAAAEAAAACAAMAAwADAAIAAgD/////AgACAAIAAwACAAAAAgADAAIAAgACAAAA//////7////+//7////////////+//////////////////7/+//6//v/+//7//3/+v/7//v/+//7//v/+//7//v/+//9//3///////v/+//7//3//f/7//v/+//9//v/+////wAAAgABAP///////wIAAgACAAIA///+//////8CAAIA//////////8AAAEA//8BAAIAAwACAAEAAgACAAIAAgADAAIAAgACAAIAAgACAAIAAgACAAIAAgACAAIAAgACAAIAAgACAAEAAQABAAEAAQD///7//v/+//7//v//////AgACAAIAAwADAAIAAAACAAMAAgACAAIA///+//7//v///wAAAAD//wAAAgACAAEAAgACAAIAAgACAAIAAwABAP/////////////+//7////+////AQACAAEAAgACAP//AQABAAIAAQABAP///v///////////////////////v/7//v/+//7/wIA+//7/wEA/f/7//v/+//7//v/+//7//r//f8AAP//AAD9//r//f8CAAIA+//7//r/+v/9//7//////wAAAQABAAEAAgADAAIAAgACAAIAAgACAAIAAgACAAIAAgABAAIAAgACAAIAAgACAAIAAQABAAIAAgACAAIAAgACAAIAAwACAAEAAwACAP//AAADAAEA/////wAAAQACAAIA/////wAAAQACAAIA///////////////////+//7///////7///////7/////////AgACAAIA//////////////7/AAD/////AwACAP///////////////////////wAAAAADAAIA//8CAAIAAgACAAIAAgACAAIAAwACAAIAAQABAAIAAgACAAIAAgACAP////////////8CAAIA/f/6//v/+//7//v/+//7//r//f8BAP3/+//9//v//f/9//v/+v/7//v/+//7//3/+//9/wIAAgD7//v/AgACAAAAAgACAAIAAQACAAIAAgACAAEAAgACAAEAAgACAAEAAAAAAAIAAQD+////AgAAAAAA///+////AAD///////////////8AAP////8CAAIAAgD/////AgACAAIAAgACAAEAAAD//////////////v/+//3//f/+/////v///wIAAgACAAIAAgD///////////7///////7//v/+////////////AgACAP///////wEAAAD//wAAAAD/////AgACAAIAAgACAAMAAgACAAEAAgACAAEAAQD/////AQD///////////////8BAAIA//8BAAIA///////////+////+//7//v/+/8BAAIAAgACAAEA+////wIAAgABAP3/AQACAAAA/f8BAAMAAQABAAIAAgABAAIAAgACAAIAAQABAAEAAQACAAIAAgACAAEAAQACAAIAAQACAAIAAgACAAEAAgACAAEA//////////////////////7///8BAAIAAgD///////////////////7//////////////////v///////////////////////////////////////////////////////v//////AAACAAIAAgADAAIAAAD///////8AAP////8CAAIAAAACAAIAAgACAAMAAwACAAIAAwACAAIAAQABAAIAAgACAAIAAgACAAIAAgADAAMAAwABAP///v////7/////////AQABAP7///8BAP///v///////v/7//v/+v/6//v/+v/7//v/+//6//v/+//9//v/+//7//v/+//7//v/+//7//v///////v/+//7//3//f/9/wIABQACAAIAAgACAAIAAgACAAIAAgAAAAIAAwACAAMAAgABAAIAAgACAAMAAgACAAIAAgD/////AgACAAIAAgACAAMAAgACAAIAAgACAAMAAgAAAAEAAgACAAIAAQACAAIAAgACAAIAAgABAP//AQACAAEA/v/9//3//v////7///////////////7////+////AQD///7//v/+///////+//7//v////7//v////7/////////AAD/////AAABAAAA/////wIAAgACAAIAAAAAAAIAAgACAAEAAAACAAIAAgACAAEAAgACAAEAAgADAAIAAQABAAIAAgABAAEAAQACAAIA+//7//v/+/8AAP//AgABAP/////7////AwADAP3/+//7//v//f8DAAIA/f8CAAIAAQACAAIAAwACAAIAAwACAAIAAQABAAIAAgACAAIAAgABAAEAAgACAAIAAQACAAIAAgABAAIAAgACAAEAAAD//////////////////wEAAQACAAEA///+//////8BAP7///////7/AgD//wEAAwACAAIAAAACAAIAAQACAAIA/////wAAAAACAAMAAgAAAAAA/////wAAAAD/////AAD/////AAAAAAAA/////wAAAAACAAIA/////wAAAgACAAIAAgACAP///////wEAAQABAAMAAwACAAIAAgADAAAA/v////////////7//v////7//v//////AgADAAIAAQACAAEA//////////////7/+//7//v/+//9//v/+/8BAP7/+/////7/+////wAA/////////////////f8CAAMAAQAAAP//AAD///3/AgACAAIAAgADAAIAAgABAP///v/+////AAD///7//v/+//7//v/+/wAAAgACAAAA/v8CAAIA/////wAAAAD/////AgADAP//AgADAP///v8CAAIAAgACAP////////7///8CAAIA///+////AQD//wEAAgABAAAA/v/+/////v/+/////v/+////AgACAAIAAgACAAIAAgABAP/////+//7//v/+//7//v8BAAEA/v/+/wEAAgACAAIAAgAAAAAAAAADAAMA/////////////wIAAgACAAMAAgD///////8CAAIAAQD////////+//7///8BAAIAAQABAAEAAQACAAIAAQD+//v//v///////////////f/+/////v8AAAEA/f/6//v/+//7//r/+//7//v/+//7//v/+/////v/+/8BAAEAAQACAP////8BAAIAAgACAP//////////AgACAAIAAgACAAIAAgACAAIAAgACAAIAAgACAAIAAQD/////AAABAP///v///wEAAQABAAAA//////7//v////////////7/////////AgADAAIAAgACAAMAAgAAAAIAAgACAAUAAwADAAMAAgACAAMAAwACAAMAAwADAAMAAgADAAIAAgADAAIA/////wAAAgACAAIAAgACAAMAAgAAAAAA/////////////////////////////////////////////////////////////////v/+//////////7////////////+//v/+v/6//r/+//7//v/+//6//v/+v/7//v//f8CAP3/+//9//v/+//7//v/+//9//3//f/7//3/AgACAAEAAgADAAIAAgACAAEAAgACAAIAAQD//////////////////////////////////////v///wAAAgACAAIAAgACAAIAAgACAAIAAgACAAIAAgACAAMAAgD/////AAD//wAA//////////8AAP//AAD/////AgABAAIAAgABAAEA///+//7///////////////7///////7///////7//////wIAAgACAAIAAgACAAIAAgABAP///v///////////////////////////wAAAgACAAIAAgACAAIAAQACAAIA/////////////////////wAA//////////8BAP////////7/+//7//v/+//7//v/+//7//v/+//7//v/+//7//r/+//7//v/+//6//v/+v/7//r//f8BAP3/AQADAAEAAgACAAIAAgACAAIAAgACAAIAAgACAAIAAgACAAIAAgACAAIAAgACAAIAAgACAAIAAgACAAIAAgACAAIAAgACAAIAAgACAAIAAgABAAAA/////////////////////////////////////////////wAA/////wAAAAD/////AAD//////////////////////////////////////////////////////////////////////////////////////////////////////////////////wAAAgACAAIAAAACAAIA//////7////////////+/////v////7///8CAAAAAgACAAIAAwACAAIAAgACAPv/+v/7//v/+//7//v/+//7//v/+/8CAAIA+/8CAAIA//8CAAIAAgACAAEAAgACAAIAAgACAAIAAgABAAMAAgD//wIAAAD///////////////8BAAIAAgACAAIAAgACAAIAAQAAAP////////////////////////////////////8AAAIAAgABAAIAAgACAAIAAQACAAIAAgACAAIAAgACAAIAAgACAAIAAgABAAIAAgACAAIAAgACAAIAAgACAAEAAgACAAIAAgACAAIA///+//////////////////////////////8AAAEAAAD//wAA//////////////////////////////////////////////////////////8CAAIAAgACAAIAAgACAAEAAQABAP//+//7//v/+////wIAAgACAAIAAgACAAIAAgABAAIAAQABAP///v/////////+//////////v///////v/AQD///7/AgACAAIAAwACAAIAAgACAAIAAgACAAIAAgACAAIAAgACAAIAAQACAAIAAgACAAIAAgACAAIAAgACAAIAAgACAAIAAgACAAIA/////////////////////wIAAwACAAIAAwACAAMAAgAAAP///////////////////////////////wEAAgACAAEAAAABAAIAAgAAAAEAAgACAAIAAgACAAIAAgACAAIAAAD//wAA/////wEAAAD//////////wIAAgACAAIAAgADAAIAAgACAAIAAgACAAIAAgAAAAEA/////////////////////////////////////wEAAgACAAIAAgACAAIAAgACAAIAAgACAAIAAgACAP////////v////7//v/+//9//v/+/8BAP//AQADAAEAAgACAAIAAgACAAIAAgACAAIAAgACAP//AgD////////7///////+////////////////////AQABAAIAAgACAAIAAgACAAIAAgACAAIAAgACAAAA//8AAAEA//////////////////8BAAIAAgADAAIAAgACAAIAAgACAAEAAAD///////////////////////////////////////8CAAIAAgACAAIAAgACAAIAAgACAAIAAgD///////////////////////////////8BAAIAAgACAAIAAgACAAIAAwADAAIAAgABAP///////////////////////////////wIAAgACAAIAAgACAP//AAACAP////////v/+//7//v/+//7//v/+//7//v/+//7//v/+//7///////7/wIAAgD7///////+/////////////////////////////////wIAAgD//wIAAgACAAIAAgACAAIAAgACAAIAAgACAAEAAgACAAIAAgACAAIAAgACAAIAAgACAAIAAgACAAIAAgACAAIAAgACAAIAAwACAAIAAgACAAIA///+////////////////////AAACAAIAAgACAAIAAgACAAIAAQD//////////////////////////////////////////////////////////////////////////////////////////////////////////////v////////////7//////wIAAgD///7//////wIAAgD+////AQD/////AgD//wAAAgD9///////7/wAA///7//v/+//7//v/+//7//v//f/6//v/AQD//wIAAgD//wIAAgACAP//////////////////////////////////AQD//wEAAgACAAIAAgABAAIAAgABAAIAAgACAAIAAgACAAIAAwACAAIAAgACAAIAAgACAAIAAgACAAIAAgACAAIAAgACAAEAAgACAAEA//////////////////////////////////////////////////////////8AAP//////////////////////////////////////////////////////////////////////////AQD/////////////AAAAAP////////////8CAAIAAgACAAIAAgACAAIAAgACAAIAAgACAAIAAgACAAIAAgACAAIAAgACAAIAAgACAAIAAgACAAIAAgACAAIAAgACAAIAAgACAAIAAgACAAIAAgACAAIAAgACAAIAAgACAAIAAgACAAIAAgABAAAA////////////////////////////////AgACAAIAAgACAAIAAgACAAIAAgACAAAA///////////+//////////////////////8CAAIAAgACAAIAAQACAAIAAgACAAIAAgACAP//////////////////////////////////AAACAAIAAgACAAIAAgACAAIAAgACAP///////////////////////////////wAAAgACAAIAAgACAAIAAgACAAIAAgACAP//AwACAP////////////////////////3//f/9//v/+//7//v/+//7//v/+//7//v/AgACAPv/AgACAP////////////8AAP//AAABAP3/AQADAAEAAgACAAIAAgACAAIAAgABAAIAAgACAAIAAgACAAIAAgACAAIAAgABAP/////////////+//7/////////////////////////////////AAACAAIAAgACAAIAAgACAP//////////////////////////AAD/////AAACAAIAAgACAAIAAgACAAIAAgACAAIAAQD///7///////////////////////////8AAAIAAgACAAIAAgACAAIAAgACAAIAAgACAAEA//////////////////////////////////8CAAIAAgACAAIAAgABAAIAAgABAAIAAgACAP///v////v/+//7//v/+//7//v/+//7//r/+//7//v/+v/7/wIA+v/6/wIAAgACAPv/AgACAPv/+//7/wEA+//7/wIA//////////8CAAMAAgACAP//AgADAAAAAgACAAIAAwACAAIAAgACAAIA////////////////////////////////////////////////////////AAAAAAIAAQD//wEAAAD///////////7///8BAAAAAQACAAIAAgACAAIAAgACAAIAAwACAAIAAwACAAIAAgACAAIAAgACAAIAAgACAAEAAgACAAIAAgACAAIAAgABAAIAAgABAAEA/////////////////////////v////////////////////////////////////////////////////////////////////7//f/7//v/+//7//v/+//7//v/+//7//v/+//6//v/+//7//v/+//7//v/+//7//3/+v/7/wIAAgACAAIAAgACAAIAAgACAA==\" type=\"audio/wav\" />\n",
              "                    Your browser does not support the audio element.\n",
              "                </audio>\n",
              "              "
            ]
          },
          "metadata": {}
        }
      ],
      "source": [
        "x = tf.io.read_file(str(x))\n",
        "x, sample_rate = tf.audio.decode_wav(x, desired_channels=1, desired_samples=16000,)\n",
        "x = tf.squeeze(x, axis=-1)\n",
        "waveform = x\n",
        "x = get_spectrogram(x)\n",
        "x = x[tf.newaxis,...]\n",
        "\n",
        "prediction = model(x)\n",
        "#x_labels = ['no', 'yes', 'down', 'go', 'left', 'up', 'right', 'stop']\n",
        "x_labels = ['down', 'go', 'left', 'no', 'right', 'stop', 'up', 'yes']\n",
        "plt.bar(x_labels, tf.nn.softmax(prediction[0]))\n",
        "plt.title('Prediction')\n",
        "plt.show()\n",
        "\n",
        "display.display(display.Audio(waveform, rate=16000))"
      ]
    }
  ],
  "metadata": {
    "accelerator": "GPU",
    "colab": {
      "provenance": [],
      "include_colab_link": true
    },
    "kernelspec": {
      "display_name": "Python 3",
      "name": "python3"
    },
    "gpuClass": "standard"
  },
  "nbformat": 4,
  "nbformat_minor": 0
}